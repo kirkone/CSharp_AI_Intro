{
 "cells": [
  {
   "cell_type": "markdown",
   "metadata": {},
   "source": [
    "This is just a demo polyglot notbook which contains some examples."
   ]
  },
  {
   "cell_type": "code",
   "execution_count": null,
   "metadata": {
    "dotnet_interactive": {
     "language": "csharp"
    },
    "polyglot_notebook": {
     "kernelName": "csharp"
    },
    "vscode": {
     "languageId": "polyglot-notebook"
    }
   },
   "outputs": [],
   "source": [
    "Guid.NewGuid()"
   ]
  },
  {
   "cell_type": "code",
   "execution_count": null,
   "metadata": {
    "dotnet_interactive": {
     "language": "csharp"
    },
    "polyglot_notebook": {
     "kernelName": "csharp"
    },
    "vscode": {
     "languageId": "polyglot-notebook"
    }
   },
   "outputs": [],
   "source": [
    "var rnd = new Random();\n",
    "rnd.Next(1,1000)"
   ]
  },
  {
   "cell_type": "markdown",
   "metadata": {},
   "source": [
    "__Validate Email__\n",
    "\n",
    "The following code samples show how to write a function in a notebook and how to use it."
   ]
  },
  {
   "cell_type": "code",
   "execution_count": null,
   "metadata": {
    "dotnet_interactive": {
     "language": "csharp"
    },
    "polyglot_notebook": {
     "kernelName": "csharp"
    },
    "vscode": {
     "languageId": "polyglot-notebook"
    }
   },
   "outputs": [],
   "source": [
    "using System.Text.RegularExpressions;\n",
    "\n",
    "public static bool IsValidEmail(string email)\n",
    "{\n",
    "    if (string.IsNullOrWhiteSpace(email))\n",
    "        return false;\n",
    "\n",
    "    // Regular expression for validating an email address\n",
    "    string pattern = @\"^[^@\\s]+@[^@\\s]+\\.[^@\\s]+$\";\n",
    "    Regex regex = new Regex(pattern, RegexOptions.IgnoreCase);\n",
    "\n",
    "    return regex.IsMatch(email);\n",
    "}\n",
    "\n",
    "IsValidEmail(\"bla@asd.de\").Display();"
   ]
  },
  {
   "cell_type": "code",
   "execution_count": null,
   "metadata": {
    "dotnet_interactive": {
     "language": "csharp"
    },
    "polyglot_notebook": {
     "kernelName": "csharp"
    },
    "vscode": {
     "languageId": "polyglot-notebook"
    }
   },
   "outputs": [],
   "source": [
    "using Microsoft.DotNet.Interactive;\n",
    "var emailInput = await Kernel.GetInputAsync(\"Your message\");\n",
    "\n",
    "IsValidEmail(emailInput).Display();"
   ]
  }
 ],
 "metadata": {
  "kernelspec": {
   "display_name": ".NET (C#)",
   "language": "C#",
   "name": ".net-csharp"
  },
  "language_info": {
   "name": "python"
  },
  "polyglot_notebook": {
   "kernelInfo": {
    "defaultKernelName": "csharp",
    "items": [
     {
      "aliases": [],
      "name": "csharp"
     }
    ]
   }
  }
 },
 "nbformat": 4,
 "nbformat_minor": 2
}
