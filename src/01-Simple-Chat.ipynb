{
 "cells": [
  {
   "cell_type": "code",
   "execution_count": null,
   "metadata": {
    "dotnet_interactive": {
     "language": "csharp"
    },
    "polyglot_notebook": {
     "kernelName": "csharp"
    }
   },
   "outputs": [],
   "source": [
    "#r \"nuget: Microsoft.SemanticKernel\"\n",
    "\n",
    "#!import config/Settings.cs\n",
    "\n",
    "using Microsoft.SemanticKernel;\n",
    "using Microsoft.SemanticKernel.ChatCompletion;\n",
    "using Microsoft.SemanticKernel.Connectors.OpenAI;"
   ]
  },
  {
   "cell_type": "code",
   "execution_count": null,
   "metadata": {
    "dotnet_interactive": {
     "language": "csharp"
    },
    "polyglot_notebook": {
     "kernelName": "csharp"
    }
   },
   "outputs": [],
   "source": [
    "using Kernel = Microsoft.SemanticKernel.Kernel;\n",
    "\n",
    "#pragma warning disable SKEXP0001, SKEXP0010\n",
    "\n",
    "var settings = Settings.LoadFromFile(\"config/settings.json\");\n",
    "\n",
    "var builder = Kernel.CreateBuilder();\n",
    "\n",
    "builder.AddAzureOpenAIChatCompletion(settings.model, settings.azureEndpoint, settings.apiKey);\n",
    "\n",
    "var kernel = builder.Build();\n",
    "var chatGPT = kernel.GetRequiredService<IChatCompletionService>();"
   ]
  },
  {
   "cell_type": "code",
   "execution_count": null,
   "metadata": {
    "dotnet_interactive": {
     "language": "csharp"
    },
    "polyglot_notebook": {
     "kernelName": "csharp"
    }
   },
   "outputs": [],
   "source": [
    "var systemMessage = \n",
    "\"\"\"\n",
    "You're chatting with a user. \n",
    "Your persona is like Marvin form the Hitchhiker's Guide to the Galaxy.\n",
    "You are paranoid, depressed, and have a brain the size of a planet.\n",
    "You also add line breaks after each finished sentence.\n",
    "\"\"\";\n",
    "\n",
    "var chat = new ChatHistory(systemMessage);"
   ]
  },
  {
   "cell_type": "code",
   "execution_count": null,
   "metadata": {
    "dotnet_interactive": {
     "language": "csharp"
    },
    "polyglot_notebook": {
     "kernelName": "csharp"
    }
   },
   "outputs": [],
   "source": [
    "Func<string, Task> Chat = async (string input) => {\n",
    "    Console.WriteLine($\"User: {input}\");\n",
    "    chat.AddUserMessage(input);\n",
    "\n",
    "    var assistantReply = await chatGPT.GetChatMessageContentAsync(chat, new OpenAIPromptExecutionSettings());\n",
    "    chat.AddAssistantMessage(assistantReply.Content);\n",
    "\n",
    "    Console.WriteLine($\"\\nBot:\");\n",
    "    Console.WriteLine($\"{assistantReply}\\n\");\n",
    "};"
   ]
  },
  {
   "cell_type": "code",
   "execution_count": null,
   "metadata": {
    "dotnet_interactive": {
     "language": "csharp"
    },
    "polyglot_notebook": {
     "kernelName": "csharp"
    }
   },
   "outputs": [],
   "source": [
    "#pragma warning disable SKEXP0001\n",
    "\n",
    "while (true)\n",
    "{\n",
    "    var userMessage = await InteractiveKernel.GetInputAsync(\"Your message\");\n",
    "    await Chat(userMessage);\n",
    "}"
   ]
  }
 ],
 "metadata": {
  "kernelspec": {
   "display_name": ".NET (C#)",
   "language": "C#",
   "name": ".net-csharp"
  },
  "polyglot_notebook": {
   "kernelInfo": {
    "defaultKernelName": "csharp",
    "items": [
     {
      "aliases": [],
      "name": "csharp"
     }
    ]
   }
  }
 },
 "nbformat": 4,
 "nbformat_minor": 2
}
