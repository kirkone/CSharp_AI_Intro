{
 "cells": [
  {
   "cell_type": "code",
   "execution_count": null,
   "metadata": {
    "dotnet_interactive": {
     "language": "csharp"
    },
    "polyglot_notebook": {
     "kernelName": "csharp"
    },
    "vscode": {
     "languageId": "polyglot-notebook"
    }
   },
   "outputs": [],
   "source": [
    "#r \"nuget: Microsoft.SemanticKernel\"\n",
    "#r \"nuget: SkiaSharp\"\n",
    "\n",
    "#!import config/Settings.cs\n",
    "#!import config/Utils.cs\n",
    "#!import config/SkiaUtils.cs\n",
    "\n",
    "using Microsoft.SemanticKernel;\n",
    "using Microsoft.SemanticKernel.TextToImage;\n",
    "using Microsoft.SemanticKernel.ChatCompletion;\n",
    "using Microsoft.SemanticKernel.Connectors.OpenAI;"
   ]
  },
  {
   "cell_type": "markdown",
   "metadata": {},
   "source": [
    "__Setting up Text to Image__\n",
    "\n",
    "Instead of an [IChatCompletionService](https://learn.microsoft.com/en-us/dotnet/api/microsoft.semantickernel.chatcompletion.ichatcompletionservice?view=semantic-kernel-dotnet) this samples uses the [ITextToImageService](https://learn.microsoft.com/en-us/dotnet/api/microsoft.semantickernel.texttoimage.itexttoimageservice?view=semantic-kernel-dotnet) service."
   ]
  },
  {
   "cell_type": "code",
   "execution_count": null,
   "metadata": {
    "dotnet_interactive": {
     "language": "csharp"
    },
    "polyglot_notebook": {
     "kernelName": "csharp"
    },
    "vscode": {
     "languageId": "polyglot-notebook"
    }
   },
   "outputs": [],
   "source": [
    "using Kernel = Microsoft.SemanticKernel.Kernel;\n",
    "\n",
    "#pragma warning disable SKEXP0001, SKEXP0010\n",
    "\n",
    "var settings = Settings.LoadFromFile(\"config/settings.json\");\n",
    "\n",
    "var builder = Kernel.CreateBuilder();\n",
    "builder.AddAzureOpenAITextToImage(settings.texttoimagemodel, settings.azureEndpoint,settings.apiKey);\n",
    "\n",
    "var kernel = builder.Build();\n",
    "\n",
    "var dallE = kernel.GetRequiredService<ITextToImageService>();"
   ]
  },
  {
   "cell_type": "markdown",
   "metadata": {},
   "source": [
    "__Generating image__\n",
    "\n",
    "The response of the [GenerateImageAsync](https://learn.microsoft.com/en-us/dotnet/api/microsoft.semantickernel.texttoimage.itexttoimageservice.generateimageasync?view=semantic-kernel-dotnet#microsoft-semantickernel-texttoimage-itexttoimageservice-generateimageasync(system-string-system-int32-system-int32-microsoft-semantickernel-kernel-system-threading-cancellationtoken)) is a url to the generated image.\n",
    "\n",
    "[SkiaSharp](https://github.com/mono/SkiaSharp) is than used to render the image in VSCode."
   ]
  },
  {
   "cell_type": "code",
   "execution_count": null,
   "metadata": {
    "dotnet_interactive": {
     "language": "csharp"
    },
    "polyglot_notebook": {
     "kernelName": "csharp"
    },
    "vscode": {
     "languageId": "polyglot-notebook"
    }
   },
   "outputs": [],
   "source": [
    "#pragma warning disable SKEXP0001\n",
    "\n",
    "var userMessage = \"\"\"\n",
    "Picture of a cute cat sitting on a chair and having tea with a gold fish in a bowl.\n",
    "\"\"\";\n",
    "\n",
    "var imageUrl = await dallE.GenerateImageAsync(userMessage, 1024, 1024);\n",
    "Console.WriteLine(imageUrl);\n",
    "await SkiaUtils.ShowImage(imageUrl, 1024, 1024);"
   ]
  }
 ],
 "metadata": {
  "kernelspec": {
   "display_name": ".NET (C#)",
   "language": "C#",
   "name": ".net-csharp"
  },
  "language_info": {
   "name": "python"
  },
  "polyglot_notebook": {
   "kernelInfo": {
    "defaultKernelName": "csharp",
    "items": [
     {
      "aliases": [],
      "name": "csharp"
     }
    ]
   }
  }
 },
 "nbformat": 4,
 "nbformat_minor": 2
}
