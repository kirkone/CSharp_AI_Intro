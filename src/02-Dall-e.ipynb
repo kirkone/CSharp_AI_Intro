{
 "cells": [
  {
   "cell_type": "code",
   "execution_count": null,
   "metadata": {
    "dotnet_interactive": {
     "language": "csharp"
    },
    "polyglot_notebook": {
     "kernelName": "csharp"
    },
    "vscode": {
     "languageId": "polyglot-notebook"
    }
   },
   "outputs": [],
   "source": [
    "#r \"nuget: Microsoft.SemanticKernel\"\n",
    "#r \"nuget: SkiaSharp\"\n",
    "\n",
    "#!import config/Settings.cs\n",
    "#!import config/Utils.cs\n",
    "#!import config/SkiaUtils.cs\n",
    "\n",
    "using Microsoft.SemanticKernel;\n",
    "using Microsoft.SemanticKernel.TextToImage;\n",
    "using Microsoft.SemanticKernel.ChatCompletion;\n",
    "using Microsoft.SemanticKernel.Connectors.OpenAI;"
   ]
  },
  {
   "cell_type": "code",
   "execution_count": null,
   "metadata": {
    "dotnet_interactive": {
     "language": "csharp"
    },
    "polyglot_notebook": {
     "kernelName": "csharp"
    },
    "vscode": {
     "languageId": "polyglot-notebook"
    }
   },
   "outputs": [],
   "source": [
    "using Kernel = Microsoft.SemanticKernel.Kernel;\n",
    "\n",
    "#pragma warning disable SKEXP0001, SKEXP0010\n",
    "\n",
    "var settings = Settings.LoadFromFile(\"config/settings.json\");\n",
    "\n",
    "var builder = Kernel.CreateBuilder();\n",
    "builder.AddAzureOpenAITextToImage(\"dall-e-3\", settings.azureEndpoint,settings.apiKey);\n",
    "\n",
    "var kernel = builder.Build();\n",
    "\n",
    "var dallE = kernel.GetRequiredService<ITextToImageService>();"
   ]
  },
  {
   "cell_type": "code",
   "execution_count": null,
   "metadata": {
    "dotnet_interactive": {
     "language": "csharp"
    },
    "polyglot_notebook": {
     "kernelName": "csharp"
    },
    "vscode": {
     "languageId": "polyglot-notebook"
    }
   },
   "outputs": [],
   "source": [
    "#pragma warning disable SKEXP0001\n",
    "\n",
    "var userMessage = \"\"\"\n",
    "Picture of a cute cat sitting on a chair and having tea with a gold fish in a bowl.\n",
    "\"\"\";\n",
    "Console.WriteLine($\"User: {userMessage}\");\n",
    "\n",
    "\n",
    "Console.WriteLine($\"\\nBot:\");\n",
    "var imageUrl = await dallE.GenerateImageAsync(userMessage, 1024, 1024);\n",
    "Console.WriteLine(imageUrl);\n",
    "await SkiaUtils.ShowImage(imageUrl, 1024, 1024);"
   ]
  }
 ],
 "metadata": {
  "kernelspec": {
   "display_name": ".NET (C#)",
   "language": "C#",
   "name": ".net-csharp"
  },
  "language_info": {
   "name": "python"
  },
  "polyglot_notebook": {
   "kernelInfo": {
    "defaultKernelName": "csharp",
    "items": [
     {
      "aliases": [],
      "name": "csharp"
     }
    ]
   }
  }
 },
 "nbformat": 4,
 "nbformat_minor": 2
}
