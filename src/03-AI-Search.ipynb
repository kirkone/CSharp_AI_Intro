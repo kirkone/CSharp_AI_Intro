{
 "cells": [
  {
   "cell_type": "code",
   "execution_count": null,
   "metadata": {
    "dotnet_interactive": {
     "language": "csharp"
    },
    "polyglot_notebook": {
     "kernelName": "csharp"
    }
   },
   "outputs": [],
   "source": [
    "#r \"nuget: Microsoft.SemanticKernel\"\n",
    "#r \"nuget: SkiaSharp\"\n",
    "#r \"nuget: Microsoft.SemanticKernel.Connectors.AzureAISearch, 1.6.3-alpha\"\n",
    "#r \"nuget: System.Linq.Async\"\n",
    "\n",
    "#!import config/Settings.cs\n",
    "#!import config/Utils.cs\n",
    "#!import config/SkiaUtils.cs\n",
    "\n",
    "using Microsoft.SemanticKernel;\n",
    "using Microsoft.SemanticKernel.Connectors.OpenAI;\n",
    "using Microsoft.SemanticKernel.Memory;\n",
    "using Microsoft.SemanticKernel.Connectors.AzureAISearch;\n"
   ]
  },
  {
   "cell_type": "code",
   "execution_count": null,
   "metadata": {
    "dotnet_interactive": {
     "language": "csharp"
    },
    "polyglot_notebook": {
     "kernelName": "csharp"
    }
   },
   "outputs": [],
   "source": [
    "var settings  = Settings.LoadFromFile(\"config/settings.json\");\n",
    "#pragma warning disable SKEXP0001, SKEXP0020, SKEXP0010\n",
    "var memory = new MemoryBuilder()\n",
    "                    .WithAzureOpenAITextEmbeddingGeneration(\"text-embedding-ada-002\", settings.azureEndpoint, settings.apiKey)\n",
    "                    .WithMemoryStore(new AzureAISearchMemoryStore(settings.aisearchendpoint, settings.aisearchkey))\n",
    "                    .Build();"
   ]
  },
  {
   "cell_type": "code",
   "execution_count": null,
   "metadata": {
    "dotnet_interactive": {
     "language": "csharp"
    },
    "polyglot_notebook": {
     "kernelName": "csharp"
    }
   },
   "outputs": [],
   "source": [
    "using System.Collections;\n",
    "using System.Linq;\n",
    "\n",
    "var gitHubFiles = new Dictionary<string, string>\n",
    "{\n",
    "    [\"https://github.com/microsoft/semantic-kernel/blob/main/README.md\"]\n",
    "        = \"README: Installation, getting started, and how to contribute\",\n",
    "    [\"https://github.com/microsoft/semantic-kernel/blob/main/dotnet/notebooks/02-running-prompts-from-file.ipynb\"]\n",
    "        = \"Jupyter notebook describing how to pass prompts from a file to a semantic plugin or function\",\n",
    "    [\"https://github.com/microsoft/semantic-kernel/blob/main/dotnet/notebooks//00-getting-started.ipynb\"]\n",
    "        = \"Jupyter notebook describing how to get started with the Semantic Kernel\",\n",
    "    [\"https://github.com/microsoft/semantic-kernel/tree/main/samples/plugins/ChatPlugin/ChatGPT\"]\n",
    "        = \"Sample demonstrating how to create a chat plugin interfacing with ChatGPT\",\n",
    "    [\"https://github.com/microsoft/semantic-kernel/blob/main/dotnet/src/SemanticKernel/Memory/VolatileMemoryStore.cs\"]\n",
    "        = \"C# class that defines a volatile embedding store\"\n",
    "};\n",
    "\n",
    "\n",
    "foreach (var entry in gitHubFiles)\n",
    "{\n",
    "    await memory.SaveReferenceAsync(\n",
    "        collection: \"GitHubFiles\",\n",
    "        externalSourceName: \"GitHub\",\n",
    "        externalId: entry.Key,\n",
    "        description: entry.Value,\n",
    "        text: entry.Value);\n",
    "}"
   ]
  },
  {
   "cell_type": "code",
   "execution_count": null,
   "metadata": {
    "dotnet_interactive": {
     "language": "csharp"
    },
    "polyglot_notebook": {
     "kernelName": "csharp"
    }
   },
   "outputs": [],
   "source": [
    "var question = new[]{\"How do I get started?\", \"Can I build a chat with SK?\"};\n",
    "foreach(var q in question)\n",
    "{\n",
    "    Console.WriteLine($\"Searching for: {q}\");\n",
    "    var results = await memory.SearchAsync(\"GitHubFiles\", q, limit: 1).ToListAsync();\n",
    "    var result = results.FirstOrDefault();\n",
    "    if (result != null)\n",
    "    {\n",
    "        Console.WriteLine(\"URL:     : \" + result.Metadata.Id);\n",
    "        Console.WriteLine(\"Title    : \" + result.Metadata.Description);\n",
    "        Console.WriteLine(\"Relevance: \" + result.Relevance);\n",
    "    }\n",
    "    Console.WriteLine();\n",
    "}"
   ]
  }
 ],
 "metadata": {
  "kernelspec": {
   "display_name": ".NET (C#)",
   "language": "C#",
   "name": ".net-csharp"
  },
  "polyglot_notebook": {
   "kernelInfo": {
    "defaultKernelName": "csharp",
    "items": [
     {
      "aliases": [],
      "name": "csharp"
     }
    ]
   }
  }
 },
 "nbformat": 4,
 "nbformat_minor": 2
}
