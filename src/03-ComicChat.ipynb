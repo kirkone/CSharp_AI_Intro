{
 "cells": [
  {
   "cell_type": "code",
   "execution_count": null,
   "metadata": {
    "dotnet_interactive": {
     "language": "csharp"
    },
    "polyglot_notebook": {
     "kernelName": "csharp"
    }
   },
   "outputs": [],
   "source": [
    "#r \"nuget: Microsoft.SemanticKernel\"\n",
    "#r \"nuget: SkiaSharp\"\n",
    "\n",
    "#!import config/Settings.cs\n",
    "#!import config/Utils.cs\n",
    "#!import config/SkiaUtils.cs\n",
    "\n",
    "using Microsoft.SemanticKernel;\n",
    "using Microsoft.SemanticKernel.TextToImage;\n",
    "using Microsoft.SemanticKernel.ChatCompletion;\n",
    "using Microsoft.SemanticKernel.Connectors.OpenAI;"
   ]
  },
  {
   "cell_type": "code",
   "execution_count": null,
   "metadata": {
    "dotnet_interactive": {
     "language": "csharp"
    },
    "polyglot_notebook": {
     "kernelName": "csharp"
    }
   },
   "outputs": [],
   "source": [
    "using Kernel = Microsoft.SemanticKernel.Kernel;\n",
    "\n",
    "#pragma warning disable SKEXP0001, SKEXP0010\n",
    "\n",
    "var settings = Settings.LoadFromFile(\"config/settings.json\");\n",
    "\n",
    "\n",
    "var builder = Kernel.CreateBuilder();\n",
    "builder.AddAzureOpenAIChatCompletion(settings.model, settings.azureEndpoint,settings.apiKey);\n",
    "builder.AddAzureOpenAITextToImage(\"dall-e-3\", settings.azureEndpoint, settings.apiKey);\n",
    "\n",
    "var kernel = builder.Build();\n",
    "\n",
    "\n",
    "var dallE = kernel.GetRequiredService<ITextToImageService>();\n",
    "var chatGPT = kernel.GetRequiredService<IChatCompletionService>();"
   ]
  },
  {
   "cell_type": "code",
   "execution_count": null,
   "metadata": {
    "dotnet_interactive": {
     "language": "csharp"
    },
    "polyglot_notebook": {
     "kernelName": "csharp"
    }
   },
   "outputs": [],
   "source": [
    "var systemMessage = \n",
    "\"\"\"\n",
    "You're chatting with a user. \n",
    "Instead of replying directly to the user provide a description of a cartoonish image that expresses what you want to say.\n",
    "The user won't see your message, they will see only the image. \n",
    "Describe the image with details in one sentence.\n",
    "\"\"\";\n",
    "\n",
    "var chat = new ChatHistory(systemMessage);"
   ]
  },
  {
   "cell_type": "code",
   "execution_count": null,
   "metadata": {
    "dotnet_interactive": {
     "language": "csharp"
    },
    "polyglot_notebook": {
     "kernelName": "csharp"
    }
   },
   "outputs": [],
   "source": [
    "#pragma warning disable SKEXP0001\n",
    "\n",
    "Func<string, Task> Chat = async (string input) => {\n",
    "    Console.WriteLine($\"User: {input}\");\n",
    "    chat.AddUserMessage(input);\n",
    "\n",
    "    var assistantReply = await chatGPT.GetChatMessageContentAsync(chat, new OpenAIPromptExecutionSettings());\n",
    "    chat.AddAssistantMessage(assistantReply.Content);\n",
    "\n",
    "    Console.WriteLine($\"\\nBot:\");\n",
    "    var imageUrl = await dallE.GenerateImageAsync(assistantReply.Content, 1024, 1024);\n",
    "    Console.WriteLine($\"\\n{imageUrl}\");\n",
    "    await SkiaUtils.ShowImage(imageUrl, 1024, 1024);\n",
    "    Console.WriteLine($\"\\n{assistantReply.Content}\");\n",
    "};"
   ]
  },
  {
   "cell_type": "code",
   "execution_count": null,
   "metadata": {
    "dotnet_interactive": {
     "language": "csharp"
    },
    "polyglot_notebook": {
     "kernelName": "csharp"
    }
   },
   "outputs": [],
   "source": [
    "while (true)\n",
    "{\n",
    "    var userMessage = await InteractiveKernel.GetInputAsync(\"Your message\");\n",
    "    await Chat(userMessage);\n",
    "}"
   ]
  }
 ],
 "metadata": {
  "kernelspec": {
   "display_name": ".NET (C#)",
   "language": "C#",
   "name": ".net-csharp"
  },
  "polyglot_notebook": {
   "kernelInfo": {
    "defaultKernelName": "csharp",
    "items": [
     {
      "aliases": [],
      "name": "csharp"
     }
    ]
   }
  }
 },
 "nbformat": 4,
 "nbformat_minor": 2
}
