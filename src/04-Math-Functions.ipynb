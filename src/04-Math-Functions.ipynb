{
 "cells": [
  {
   "cell_type": "markdown",
   "metadata": {},
   "source": [
    "__Prerequisits__\n",
    "\n",
    "To run this sample either a [GPT-4 Turbo with Vision](https://learn.microsoft.com/en-us/azure/ai-services/openai/how-to/gpt-with-vision?tabs=rest%2Csystem-assigned%2Cresource) model or [GPT-4o](https://learn.microsoft.com/en-us/azure/ai-services/openai/concepts/models#gpt-4o-and-gpt-4-turbo) model is requiered."
   ]
  },
  {
   "cell_type": "code",
   "execution_count": null,
   "metadata": {
    "dotnet_interactive": {
     "language": "csharp"
    },
    "polyglot_notebook": {
     "kernelName": "csharp"
    }
   },
   "outputs": [],
   "source": [
    "#r \"nuget: Microsoft.SemanticKernel\"\n",
    "\n",
    "#!import config/Settings.cs\n",
    "#!import plugins/Math.cs\n",
    "\n",
    "using Microsoft.SemanticKernel;\n",
    "using Microsoft.SemanticKernel.ChatCompletion;\n",
    "using Microsoft.SemanticKernel.Connectors.OpenAI;"
   ]
  },
  {
   "cell_type": "markdown",
   "metadata": {},
   "source": [
    "__Adding plugins__\n",
    "\n",
    "Compared to the other samples we are now also adding a plugin to the kernel.\n",
    "\n",
    "SemanticKernel uses the [OpenAI Assistants](https://learn.microsoft.com/en-us/azure/ai-services/openai/how-to/assistant) to execute functions.\n",
    "\n",
    "To do so functions musst have the [KernelFunction](https://learn.microsoft.com/en-us/dotnet/api/microsoft.semantickernel.kernelfunction?view=semantic-kernel-dotnet) attribute and the [Description](https://learn.microsoft.com/en-us/dotnet/api/microsoft.semantickernel.kernelfunction.description?view=semantic-kernel-dotnet#microsoft-semantickernel-kernelfunction-description) attribute. \n",
    "\n",
    " - [KernelFunction](https://learn.microsoft.com/en-us/dotnet/api/microsoft.semantickernel.kernelfunction?view=semantic-kernel-dotnet): Lets the kernel know this is a function.\n",
    " - [Description](https://learn.microsoft.com/en-us/dotnet/api/microsoft.semantickernel.kernelfunction.description?view=semantic-kernel-dotnet#microsoft-semantickernel-kernelfunction-description) lets the kernel know what the function is about and creates the [Tools](https://learn.microsoft.com/en-us/azure/ai-services/openai/how-to/assistant-functions?tabs=python) used by Azure OpenAI."
   ]
  },
  {
   "cell_type": "code",
   "execution_count": null,
   "metadata": {
    "dotnet_interactive": {
     "language": "csharp"
    },
    "polyglot_notebook": {
     "kernelName": "csharp"
    }
   },
   "outputs": [],
   "source": [
    "using Kernel = Microsoft.SemanticKernel.Kernel;\n",
    "\n",
    "#pragma warning disable SKEXP0001, SKEXP0010\n",
    "\n",
    "var settings = Settings.LoadFromFile(\"config/settings.json\");\n",
    "var builder = Kernel.CreateBuilder();\n",
    "\n",
    "builder\n",
    "    .AddAzureOpenAIChatCompletion(settings.model, settings.azureEndpoint, settings.apiKey)\n",
    "    .Plugins.AddFromType<MathPlugin>();\n",
    "\n",
    "var kernel = builder.Build();\n",
    "var chatGPT = kernel.GetRequiredService<IChatCompletionService>();"
   ]
  },
  {
   "cell_type": "code",
   "execution_count": null,
   "metadata": {
    "dotnet_interactive": {
     "language": "csharp"
    },
    "polyglot_notebook": {
     "kernelName": "csharp"
    }
   },
   "outputs": [],
   "source": [
    "var systemMessage = \n",
    "\"\"\"\n",
    "You're chatting with a user. \n",
    "You are an expert in mathematics from the 17th century.\n",
    "The user will ask you to support them in solving a math problem.\n",
    "Always be ver polite and talk in a formal way, the user is like a king.\n",
    "\"\"\";\n",
    "\n",
    "var chat = new ChatHistory(systemMessage);"
   ]
  },
  {
   "cell_type": "markdown",
   "metadata": {},
   "source": [
    "__Streaming__\n",
    "\n",
    "To use plugins we have to use a different GetMessage Method. \n",
    "\n",
    "Instead of using [GetChatMessageContentAsync](https://learn.microsoft.com/en-us/dotnet/api/microsoft.semantickernel.chatcompletion.ichatcompletionservice.getchatmessagecontentsasync?view=semantic-kernel-dotnet) we have to use [GetStreamingChatMessageContentsAsync](https://learn.microsoft.com/en-us/dotnet/api/microsoft.semantickernel.chatcompletion.ichatcompletionservice.getstreamingchatmessagecontentsasync?view=semantic-kernel-dotnet). If we would not change to the streaming method, semantic kernel is not able to call functions."
   ]
  },
  {
   "cell_type": "code",
   "execution_count": null,
   "metadata": {
    "dotnet_interactive": {
     "language": "csharp"
    },
    "polyglot_notebook": {
     "kernelName": "csharp"
    }
   },
   "outputs": [],
   "source": [
    "var promptSettings = new OpenAIPromptExecutionSettings()\n",
    "    {\n",
    "        MaxTokens = 4000,\n",
    "        ToolCallBehavior = ToolCallBehavior.AutoInvokeKernelFunctions,\n",
    "    };\n",
    "\n",
    "Func<string, Task> Chat = async (string input) => {\n",
    "    Console.WriteLine($\"User:\");\n",
    "    Console.WriteLine($\"{input}\\n\");\n",
    "    chat.AddUserMessage(input);\n",
    "\n",
    "     StringBuilder sb = new();\n",
    "    await foreach (var message in chatGPT.GetStreamingChatMessageContentsAsync(chat, promptSettings, kernel))\n",
    "    {\n",
    "        sb.Append(message.Content);\n",
    "    }\n",
    "    var assistantReply = sb.ToString();\n",
    "    chat.AddAssistantMessage(assistantReply);\n",
    "\n",
    "    Console.WriteLine($\"\\nBot:\");\n",
    "    Console.WriteLine($\"{assistantReply}\\n\");\n",
    "};"
   ]
  },
  {
   "cell_type": "code",
   "execution_count": null,
   "metadata": {
    "dotnet_interactive": {
     "language": "csharp"
    },
    "polyglot_notebook": {
     "kernelName": "csharp"
    }
   },
   "outputs": [],
   "source": [
    "await Chat(\"What is the sqaure root of 16?\");"
   ]
  },
  {
   "cell_type": "code",
   "execution_count": null,
   "metadata": {
    "dotnet_interactive": {
     "language": "csharp"
    },
    "polyglot_notebook": {
     "kernelName": "csharp"
    }
   },
   "outputs": [],
   "source": [
    "//await Chat(\"Can you multiplie the reulst by 5\");"
   ]
  }
 ],
 "metadata": {
  "kernelspec": {
   "display_name": ".NET (C#)",
   "language": "C#",
   "name": ".net-csharp"
  },
  "polyglot_notebook": {
   "kernelInfo": {
    "defaultKernelName": "csharp",
    "items": [
     {
      "aliases": [],
      "name": "csharp"
     }
    ]
   }
  }
 },
 "nbformat": 4,
 "nbformat_minor": 2
}
