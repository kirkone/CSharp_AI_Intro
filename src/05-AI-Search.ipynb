{
 "cells": [
  {
   "cell_type": "code",
   "execution_count": 1,
   "metadata": {
    "dotnet_interactive": {
     "language": "csharp"
    },
    "polyglot_notebook": {
     "kernelName": "csharp"
    }
   },
   "outputs": [
    {
     "data": {
      "text/html": [
       "<div><div></div><div></div><div><strong>Installed Packages</strong><ul><li><span>Microsoft.SemanticKernel, 1.17.1</span></li><li><span>Microsoft.SemanticKernel.Connectors.AzureAISearch, 1.6.3-alpha</span></li><li><span>SkiaSharp, 2.88.8</span></li><li><span>System.Linq.Async, 6.0.1</span></li></ul></div></div>"
      ]
     },
     "metadata": {},
     "output_type": "display_data"
    },
    {
     "data": {
      "text/plain": [
       "Loading extensions from `C:\\Users\\mikokono\\.nuget\\packages\\skiasharp\\2.88.8\\interactive-extensions\\dotnet\\SkiaSharp.DotNet.Interactive.dll`"
      ]
     },
     "metadata": {},
     "output_type": "display_data"
    }
   ],
   "source": [
    "#r \"nuget: Microsoft.SemanticKernel\"\n",
    "#r \"nuget: SkiaSharp\"\n",
    "#r \"nuget: Microsoft.SemanticKernel.Connectors.AzureAISearch, 1.6.3-alpha\"\n",
    "#r \"nuget: System.Linq.Async\"\n",
    "\n",
    "#!import config/Settings.cs\n",
    "#!import config/Utils.cs\n",
    "#!import config/SkiaUtils.cs\n",
    "\n",
    "using Microsoft.SemanticKernel;\n",
    "using Microsoft.SemanticKernel.Connectors.OpenAI;\n",
    "using Microsoft.SemanticKernel.Memory;\n",
    "using Microsoft.SemanticKernel.Connectors.AzureAISearch;\n",
    "using Microsoft.SemanticKernel.ChatCompletion;\n"
   ]
  },
  {
   "cell_type": "code",
   "execution_count": 2,
   "metadata": {
    "dotnet_interactive": {
     "language": "csharp"
    },
    "polyglot_notebook": {
     "kernelName": "csharp"
    }
   },
   "outputs": [],
   "source": [
    "using Kernel = Microsoft.SemanticKernel.Kernel;\n",
    "\n",
    "var settings  = Settings.LoadFromFile(\"config/settings.json\");\n",
    "#pragma warning disable SKEXP0001, SKEXP0020, SKEXP0010\n",
    "\n",
    "var builder = Kernel.CreateBuilder();\n",
    "\n",
    "builder.AddAzureOpenAIChatCompletion(settings.model, settings.azureEndpoint, settings.apiKey);\n",
    "\n",
    "var kernel = builder.Build();\n",
    "var chatGPT = kernel.GetRequiredService<IChatCompletionService>();"
   ]
  },
  {
   "cell_type": "markdown",
   "metadata": {},
   "source": [
    "__Chunking__\n",
    "\n",
    "Split the data into smaller pieces. In this case paragraphs."
   ]
  },
  {
   "cell_type": "code",
   "execution_count": 3,
   "metadata": {
    "dotnet_interactive": {
     "language": "csharp"
    },
    "polyglot_notebook": {
     "kernelName": "csharp"
    }
   },
   "outputs": [],
   "source": [
    "using System.IO;\n",
    "\n",
    "var filename = \"data/ai search/poem.txt\";\n",
    "var poemParagraphs = File.ReadAllText(filename).\n",
    "Split(new string[] { \"\\r\\n\\r\\n\", \"\\n\\n\" }, StringSplitOptions.RemoveEmptyEntries);\n"
   ]
  },
  {
   "cell_type": "markdown",
   "metadata": {},
   "source": [
    "__Adding data to the index__\n",
    "\n",
    "For the data storage part an Azure AI Search service is used."
   ]
  },
  {
   "cell_type": "code",
   "execution_count": 4,
   "metadata": {
    "dotnet_interactive": {
     "language": "csharp"
    },
    "polyglot_notebook": {
     "kernelName": "csharp"
    }
   },
   "outputs": [],
   "source": [
    "using System.Collections;\n",
    "using System.Linq;\n",
    "using System.Text.Json;\n",
    "\n",
    "var collectionName = \"PoenIndex\";\n",
    "\n",
    "#pragma warning disable SKEXP0001, SKEXP0020, SKEXP0010\n",
    "var memory = new MemoryBuilder()\n",
    "                    .WithAzureOpenAITextEmbeddingGeneration(settings.textembeddingmodel, settings.azureEndpoint, settings.apiKey)\n",
    "                    .WithMemoryStore(new AzureAISearchMemoryStore(settings.aisearchendpoint, settings.aisearchkey))\n",
    "                    .Build();\n",
    "\n",
    "\n",
    "foreach (var paragraph in poemParagraphs)\n",
    "{\n",
    "    await memory.SaveInformationAsync(\n",
    "        collection: collectionName,\n",
    "        text: paragraph,\n",
    "        id: paragraph.GetHashCode().ToString(),\n",
    "        description: paragraph,\n",
    "        additionalMetadata: JsonSerializer.Serialize(new { filename })\n",
    "\n",
    "            );\n",
    "}"
   ]
  },
  {
   "cell_type": "code",
   "execution_count": 5,
   "metadata": {
    "dotnet_interactive": {
     "language": "csharp"
    },
    "polyglot_notebook": {
     "kernelName": "csharp"
    }
   },
   "outputs": [],
   "source": [
    "var systemMessage = \n",
    "\"\"\"\n",
    "You are a helpfull asssitant.\n",
    "You help users getting answers on their questions.\n",
    "Please also explain why you think the answer is correct and how you came up with it.\n",
    "\"\"\";\n",
    "\n",
    "var chat = new ChatHistory(systemMessage);\n",
    "\n",
    "string GetUserMessage(List<string> messages, string question)\n",
    "{\n",
    "    var sb = new StringBuilder();\n",
    "    sb.AppendLine(\"Kindly utilize the discovered results to respond to the provided question.\");\n",
    "    sb.AppendLine(\"# Question\");\n",
    "    sb.AppendLine(question);\n",
    "    sb.AppendLine(\"# Found Results:\");\n",
    "    for(int i = 0; i<messages.Count; i++) \n",
    "    {\n",
    "        sb.AppendLine($\"- {i+1}\");\n",
    "        sb.AppendLine(messages[i]);\n",
    "    }\n",
    "    return sb.ToString();\n",
    "}\n"
   ]
  },
  {
   "cell_type": "code",
   "execution_count": 6,
   "metadata": {
    "dotnet_interactive": {
     "language": "csharp"
    },
    "polyglot_notebook": {
     "kernelName": "csharp"
    }
   },
   "outputs": [
    {
     "name": "stdout",
     "output_type": "stream",
     "text": [
      "###\n",
      "Question:\n",
      "Did the Unicorn got captured?\n",
      "Answer:\n",
      "Based on the provided results, it appears that the unicorn did not get captured. Here’s the reasoning for this conclusion:\n",
      "\n",
      "1. The first found result describes a scene where the unicorn appears and acknowledges the observer with a nod, but it does not mention any form of capture. The verse concludes with \"Had come to them, no more to be said,\" implying the unicorn's presence but not its capture.\n",
      "\n",
      "2. The second found result elaborates on the efforts of a developer using an \"algorithmic spell\" to try and capture the unicorn. However, it specifically states, \"the unicorn was a crafty one, Dodging capture, it would not be outdone.\" This clearly indicates that the unicorn successfully evaded capture.\n",
      "\n",
      "Therefore, considering both pieces of information, it is evident that the unicorn was not captured.\n",
      "\n",
      "###\n",
      "Question:\n",
      "What spell has the developer woven?\n",
      "Answer:\n",
      "The developer has woven an \"algorithmic spell.\" \n",
      "\n",
      "To elaborate, according to the found results:\n",
      "\n",
      "- The first result states, \"The developer, with an algorithmic spell, Cast a net of queries, woven well.\" This clearly identifies the spell as an \"algorithmic spell,\" which implies the use of advanced computational or programming techniques to attempt a specific outcome—in this case, trying to capture the unicorn.\n",
      "\n",
      "The additional details about the net of queries being woven well further suggest that the developer used a sophisticated and well-constructed algorithm to achieve their goal, even though the unicorn ultimately dodged capture.\n",
      "\n",
      "Therefore, the specific spell woven by the developer is an \"algorithmic spell.\"\n",
      "\n"
     ]
    }
   ],
   "source": [
    "var question = new[]{\"Did the Unicorn got captured?\", \"What spell has the developer woven?\"};\n",
    "foreach(var q in question)\n",
    "{\n",
    "    Console.WriteLine($\"###\");\n",
    "    Console.WriteLine($\"Question:\");\n",
    "    Console.WriteLine($\"{q}\");\n",
    "    var results = await memory.SearchAsync(collectionName, q, limit: 2).ToListAsync();\n",
    "    var textResult = results.Select(r => r.Metadata.Description).ToList();\n",
    "    \n",
    "    chat.AddUserMessage(GetUserMessage(textResult, q));\n",
    "\n",
    "    var assistantReply = await chatGPT.GetChatMessageContentAsync(chat, new OpenAIPromptExecutionSettings(){\n",
    "        Temperature = 0.7\n",
    "    });\n",
    "    chat.AddAssistantMessage(assistantReply.Content);\n",
    "\n",
    "    Console.WriteLine($\"Answer:\");\n",
    "    Console.WriteLine($\"{assistantReply}\");\n",
    "    Console.WriteLine($\"\");\n",
    "}"
   ]
  }
 ],
 "metadata": {
  "kernelspec": {
   "display_name": ".NET (C#)",
   "language": "C#",
   "name": ".net-csharp"
  },
  "polyglot_notebook": {
   "kernelInfo": {
    "defaultKernelName": "csharp",
    "items": [
     {
      "aliases": [],
      "name": "csharp"
     }
    ]
   }
  }
 },
 "nbformat": 4,
 "nbformat_minor": 2
}
