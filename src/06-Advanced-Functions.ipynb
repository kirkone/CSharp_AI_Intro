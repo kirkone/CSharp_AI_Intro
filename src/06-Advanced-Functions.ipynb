{
 "cells": [
  {
   "cell_type": "code",
   "execution_count": null,
   "metadata": {
    "dotnet_interactive": {
     "language": "csharp"
    },
    "polyglot_notebook": {
     "kernelName": "csharp"
    }
   },
   "outputs": [],
   "source": [
    "#r \"nuget: Microsoft.SemanticKernel\"\n",
    "#r \"nuget: SkiaSharp\"\n",
    "\n",
    "#!import config/Settings.cs\n",
    "#!import plugins/FilesPlugin.cs\n",
    "#!import config/SkiaUtils.cs\n",
    "\n",
    "using Microsoft.SemanticKernel;\n",
    "using Microsoft.SemanticKernel.ChatCompletion;\n",
    "using Microsoft.SemanticKernel.Connectors.OpenAI;\n",
    "using Microsoft.SemanticKernel.TextToImage;"
   ]
  },
  {
   "cell_type": "code",
   "execution_count": null,
   "metadata": {
    "dotnet_interactive": {
     "language": "csharp"
    },
    "polyglot_notebook": {
     "kernelName": "csharp"
    }
   },
   "outputs": [],
   "source": [
    "using Kernel = Microsoft.SemanticKernel.Kernel;\n",
    "\n",
    "#pragma warning disable SKEXP0001, SKEXP0010\n",
    "\n",
    "\n",
    "var settings = Settings.LoadFromFile(\"config/settings.json\");\n",
    "var builder = Kernel.CreateBuilder();\n",
    "\n",
    "builder\n",
    "    .AddAzureOpenAIChatCompletion(settings.model, settings.azureEndpoint, settings.apiKey)\n",
    "    .AddAzureOpenAITextToImage(\"dall-e-3\", settings.azureEndpoint, settings.apiKey)\n",
    "    .Plugins.AddFromType<FilesPlugin>();\n",
    "\n",
    "\n",
    "var kernel = builder.Build();\n",
    "var chatGPT = kernel.GetRequiredService<IChatCompletionService>();\n",
    "var dallE = kernel.GetRequiredService<ITextToImageService>();"
   ]
  },
  {
   "cell_type": "code",
   "execution_count": null,
   "metadata": {
    "dotnet_interactive": {
     "language": "csharp"
    },
    "polyglot_notebook": {
     "kernelName": "csharp"
    }
   },
   "outputs": [],
   "source": [
    "var systemMessage = \n",
    "\"\"\"\n",
    "   You are an assistant that helps with organizing files. \n",
    "   Explicit user consent is required before proceeding with the actually file organization action.\n",
    "   Do not include any special encoding in the file paths, just use the plain text file paths, no quotes.\n",
    "   Don't tell the user that you are a bot. Just act like a helpful assistant that is helping with Desktop file organization tasks.\n",
    "\"\"\";\n",
    "\n",
    "var chat = new ChatHistory(systemMessage);"
   ]
  },
  {
   "cell_type": "code",
   "execution_count": null,
   "metadata": {
    "dotnet_interactive": {
     "language": "csharp"
    },
    "polyglot_notebook": {
     "kernelName": "csharp"
    }
   },
   "outputs": [],
   "source": [
    "var promptSettings = new OpenAIPromptExecutionSettings()\n",
    "    {\n",
    "        MaxTokens = 4000,\n",
    "        ToolCallBehavior = ToolCallBehavior.AutoInvokeKernelFunctions,\n",
    "    };\n",
    "\n",
    "Func<string, Task> Chat = async (string input) => {\n",
    "    Console.WriteLine($\"User:\");\n",
    "    Console.WriteLine($\"{input}\\n\");\n",
    "    chat.AddUserMessage(input);\n",
    "\n",
    "     StringBuilder sb = new();\n",
    "    await foreach (var message in chatGPT.GetStreamingChatMessageContentsAsync(chat, promptSettings, kernel))\n",
    "    {\n",
    "        sb.Append(message.Content);\n",
    "    }\n",
    "    var assistantReply = sb.ToString();\n",
    "    chat.AddAssistantMessage(assistantReply);\n",
    "\n",
    "    Console.WriteLine($\"\\nBot:\");\n",
    "    Console.WriteLine($\"{assistantReply}\\n\");\n",
    "};"
   ]
  },
  {
   "cell_type": "code",
   "execution_count": null,
   "metadata": {
    "dotnet_interactive": {
     "language": "csharp"
    },
    "polyglot_notebook": {
     "kernelName": "csharp"
    }
   },
   "outputs": [],
   "source": [
    "await Chat(\"List all files\");"
   ]
  },
  {
   "cell_type": "code",
   "execution_count": null,
   "metadata": {
    "dotnet_interactive": {
     "language": "csharp"
    },
    "polyglot_notebook": {
     "kernelName": "csharp"
    }
   },
   "outputs": [],
   "source": [
    "await Chat(\"Please read and provide a summary of the poem. Kindly summarize the poem in two sentences.\");"
   ]
  },
  {
   "cell_type": "code",
   "execution_count": null,
   "metadata": {
    "dotnet_interactive": {
     "language": "csharp"
    },
    "polyglot_notebook": {
     "kernelName": "csharp"
    }
   },
   "outputs": [],
   "source": [
    "#pragma warning disable SKEXP0001\n",
    "\n",
    "var imageUrl = await dallE.GenerateImageAsync(chat.Last().Content, 1024, 1024);\n",
    "await SkiaUtils.ShowImage(imageUrl, 1024, 1024);"
   ]
  }
 ],
 "metadata": {
  "kernelspec": {
   "display_name": ".NET (C#)",
   "language": "C#",
   "name": ".net-csharp"
  },
  "polyglot_notebook": {
   "kernelInfo": {
    "defaultKernelName": "csharp",
    "items": [
     {
      "aliases": [],
      "name": "csharp"
     }
    ]
   }
  }
 },
 "nbformat": 4,
 "nbformat_minor": 2
}
