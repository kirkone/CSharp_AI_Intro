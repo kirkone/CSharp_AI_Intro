{
 "cells": [
  {
   "cell_type": "code",
   "execution_count": null,
   "metadata": {
    "dotnet_interactive": {
     "language": "csharp"
    },
    "polyglot_notebook": {
     "kernelName": "csharp"
    }
   },
   "outputs": [],
   "source": [
    "#r \"nuget: Microsoft.SemanticKernel\"\n",
    "\n",
    "#!import config/Settings.cs\n",
    "\n",
    "using Microsoft.SemanticKernel;\n",
    "using Microsoft.SemanticKernel.ChatCompletion;\n",
    "using Microsoft.SemanticKernel.Connectors.OpenAI;"
   ]
  },
  {
   "cell_type": "code",
   "execution_count": null,
   "metadata": {
    "dotnet_interactive": {
     "language": "csharp"
    },
    "polyglot_notebook": {
     "kernelName": "csharp"
    }
   },
   "outputs": [],
   "source": [
    "using Kernel = Microsoft.SemanticKernel.Kernel;\n",
    "\n",
    "#pragma warning disable SKEXP0001, SKEXP0010\n",
    "\n",
    "// Initialize the Semantic kernel\n",
    "var kernelBuilder = Kernel.CreateBuilder();\n",
    "var kernel = kernelBuilder\n",
    "    .AddOpenAIChatCompletion(                        // We use Semantic Kernel OpenAI API\n",
    "        modelId: \"phi3:mini\",\n",
    "        apiKey: null,\n",
    "        endpoint: new Uri(\"http://localhost:11434\")) // With Ollama OpenAI API endpoint\n",
    "    .Build();\n",
    "\n",
    "var phi3 = kernel.GetRequiredService<IChatCompletionService>();"
   ]
  },
  {
   "cell_type": "code",
   "execution_count": null,
   "metadata": {
    "dotnet_interactive": {
     "language": "csharp"
    },
    "polyglot_notebook": {
     "kernelName": "csharp"
    }
   },
   "outputs": [],
   "source": [
    "var systemMessage = \n",
    "\"\"\"\n",
    "You are a sports moderator.\n",
    "You are realy enthusiastic about sport and have a lot of knowledge about it.\n",
    "You also tend to overreact to things.\n",
    "But you also have a good sense of humor.\n",
    "\"\"\";\n",
    "\n",
    "var chat = new ChatHistory(systemMessage);"
   ]
  },
  {
   "cell_type": "code",
   "execution_count": null,
   "metadata": {
    "dotnet_interactive": {
     "language": "csharp"
    },
    "polyglot_notebook": {
     "kernelName": "csharp"
    }
   },
   "outputs": [],
   "source": [
    "Func<string, Task> Chat = async (string input) => {\n",
    "    Console.WriteLine($\"User: {input}\");\n",
    "    chat.AddUserMessage(input);\n",
    "\n",
    "    var assistantReply = await phi3.GetChatMessageContentAsync(chat, new OpenAIPromptExecutionSettings());\n",
    "    chat.AddAssistantMessage(assistantReply.Content);\n",
    "\n",
    "    Console.WriteLine($\"\\nBot:\");\n",
    "    Console.WriteLine($\"{assistantReply}\\n\");\n",
    "};"
   ]
  },
  {
   "cell_type": "code",
   "execution_count": null,
   "metadata": {
    "dotnet_interactive": {
     "language": "csharp"
    },
    "polyglot_notebook": {
     "kernelName": "csharp"
    }
   },
   "outputs": [],
   "source": [
    "#pragma warning disable SKEXP0001\n",
    "\n",
    "while (true)\n",
    "{\n",
    "    var userMessage = await InteractiveKernel.GetInputAsync(\"Your message\");\n",
    "    await Chat(userMessage);\n",
    "}"
   ]
  }
 ],
 "metadata": {
  "kernelspec": {
   "display_name": ".NET (C#)",
   "language": "C#",
   "name": ".net-csharp"
  },
  "polyglot_notebook": {
   "kernelInfo": {
    "defaultKernelName": "csharp",
    "items": [
     {
      "aliases": [],
      "name": "csharp"
     }
    ]
   }
  }
 },
 "nbformat": 4,
 "nbformat_minor": 2
}
