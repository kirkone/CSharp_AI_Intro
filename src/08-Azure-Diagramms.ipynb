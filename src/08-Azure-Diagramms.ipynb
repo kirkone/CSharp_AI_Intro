{
 "cells": [
  {
   "cell_type": "markdown",
   "metadata": {},
   "source": [
    "### Info\n",
    "For an enhanced experience with this notebook, particularly for viewing and creating diagrams directly within Visual Studio Code, it is highly recommended to install the \"Eraser Diagrams\" extension. This extension allows for the preview and creation of Eraser diagrams seamlessly within your IDE environment.\n",
    "\n",
    "[Install Eraser Diagrams Extension](https://marketplace.visualstudio.com/items?itemName=EraserLabs.eraserlabs)"
   ]
  },
  {
   "cell_type": "code",
   "execution_count": null,
   "metadata": {
    "dotnet_interactive": {
     "language": "csharp"
    },
    "polyglot_notebook": {
     "kernelName": "csharp"
    }
   },
   "outputs": [],
   "source": [
    "#r \"nuget: Microsoft.SemanticKernel\"\n",
    "\n",
    "#!import config/Settings.cs\n",
    "#!import plugins/FilesPlugin.cs\n",
    "\n",
    "using Microsoft.SemanticKernel;\n",
    "using Microsoft.SemanticKernel.ChatCompletion;\n",
    "using Microsoft.SemanticKernel.Connectors.OpenAI;"
   ]
  },
  {
   "cell_type": "code",
   "execution_count": null,
   "metadata": {
    "dotnet_interactive": {
     "language": "csharp"
    },
    "polyglot_notebook": {
     "kernelName": "csharp"
    }
   },
   "outputs": [],
   "source": [
    "using System.IO;\n",
    "\n",
    "public class Architecture\n",
    "{\n",
    "    public string Request { get; set; }\n",
    "    public string Response { get; set; }\n",
    "} \n",
    " \n",
    "static string ParseFile(string filePath)\n",
    "{\n",
    "    var fileContent = File.ReadAllText(filePath);\n",
    "\n",
    "        // Splitting the content into Request and Response\n",
    "        var sections = fileContent.Split(new string[] { \"#Request\", \"#Response\" }, StringSplitOptions.RemoveEmptyEntries);\n",
    "        if (sections.Length >= 2)\n",
    "        {\n",
    "            var setup = new Architecture\n",
    "            {\n",
    "                Request = sections[0].Trim(),\n",
    "                Response = sections[1].Trim()\n",
    "            };\n",
    "\n",
    "            // Serialize to JSON\n",
    "        return JsonSerializer.Serialize(setup);\n",
    "    }\n",
    "    else\n",
    "    {\n",
    "        throw new Exception(\"Invalid file format\");\n",
    "    }\n",
    "}"
   ]
  },
  {
   "cell_type": "markdown",
   "metadata": {},
   "source": [
    "__System prompt grounding__\n",
    "\n",
    "The Following cell contains a system prompt and adds some samples to it. Those samples are used to ground the model. This offers an very cheap and easy way to tech the language model something new. In this case it uses some exampels to teach the model how to create eraser code and also gives it a list of avaialble icons.\n"
   ]
  },
  {
   "cell_type": "code",
   "execution_count": null,
   "metadata": {
    "dotnet_interactive": {
     "language": "csharp"
    },
    "polyglot_notebook": {
     "kernelName": "csharp"
    }
   },
   "outputs": [],
   "source": [
    "var files = Directory.GetFiles(\".\\\\data\\\\eraser\\\\samples\");\n",
    "var archs = files.Select(f => ParseFile(f)).ToList();\n",
    "\n",
    "var icons = File.ReadAllText(\".\\\\data\\\\eraser\\\\icons.json\");\n",
    "\n",
    "var eraserdiagram_template_promnpt = \n",
    "$\"\"\"\n",
    "You are an expert in creating earaserdiagrams. \n",
    "Make sure that all open open cury braces are closed with a closing brace.\n",
    "Make sure the first line always is cloud-architecture-diagram.\n",
    "Also try to select the most appropriate icons for each resource based on the provided icons.\n",
    "\n",
    "For reference you can use the following samples:\n",
    "\n",
    "## Samples:\n",
    "{JsonSerializer.Serialize(archs)}\n",
    "\n",
    "\n",
    "## Icons:\n",
    "{icons}\n",
    "\"\"\";\n"
   ]
  },
  {
   "cell_type": "code",
   "execution_count": null,
   "metadata": {
    "dotnet_interactive": {
     "language": "csharp"
    },
    "polyglot_notebook": {
     "kernelName": "csharp"
    }
   },
   "outputs": [],
   "source": [
    "using Kernel = Microsoft.SemanticKernel.Kernel;\n",
    "\n",
    "#pragma warning disable SKEXP0001, SKEXP0010\n",
    "\n",
    "var settings = Settings.LoadFromFile(\"config/settings.json\");\n",
    "\n",
    "var builder = Kernel.CreateBuilder();\n",
    "\n",
    "builder.AddAzureOpenAIChatCompletion(settings.model, settings.azureEndpoint, settings.apiKey)\n",
    "    .Plugins.AddFromType<FilesPlugin>();\n",
    "\n",
    "var kernel = builder.Build();\n",
    "var chatGPT = kernel.GetRequiredService<IChatCompletionService>();"
   ]
  },
  {
   "cell_type": "code",
   "execution_count": null,
   "metadata": {
    "dotnet_interactive": {
     "language": "csharp"
    },
    "polyglot_notebook": {
     "kernelName": "csharp"
    }
   },
   "outputs": [],
   "source": [
    "var chat = new ChatHistory(eraserdiagram_template_promnpt);"
   ]
  },
  {
   "cell_type": "code",
   "execution_count": null,
   "metadata": {
    "dotnet_interactive": {
     "language": "csharp"
    },
    "polyglot_notebook": {
     "kernelName": "csharp"
    }
   },
   "outputs": [],
   "source": [
    "var promptSettings = new OpenAIPromptExecutionSettings()\n",
    "    {\n",
    "        MaxTokens = 4000,\n",
    "        ToolCallBehavior = ToolCallBehavior.AutoInvokeKernelFunctions,\n",
    "    };\n",
    "\n",
    "Func<string, Task> Chat = async (string input) => {\n",
    "    Console.WriteLine($\"User:\");\n",
    "    Console.WriteLine($\"{input}\\n\");\n",
    "    chat.AddUserMessage(input);\n",
    "\n",
    "     StringBuilder sb = new();\n",
    "    await foreach (var message in chatGPT.GetStreamingChatMessageContentsAsync(chat, promptSettings, kernel))\n",
    "    {\n",
    "        sb.Append(message.Content);\n",
    "    }\n",
    "    var assistantReply = sb.ToString();\n",
    "    chat.AddAssistantMessage(assistantReply);\n",
    "\n",
    "    Console.WriteLine($\"\\nBot:\");\n",
    "    Console.WriteLine($\"{assistantReply}\\n\");\n",
    "};"
   ]
  },
  {
   "cell_type": "code",
   "execution_count": null,
   "metadata": {
    "dotnet_interactive": {
     "language": "csharp"
    },
    "polyglot_notebook": {
     "kernelName": "csharp"
    }
   },
   "outputs": [],
   "source": [
    "#pragma warning disable SKEXP0001\n",
    "\n",
    "var user_prompt= \"\"\"\n",
    "I want to have a azure architecture diagram.\n",
    "I want to have a subscription with 2 ResourceGroups.\n",
    "Each resource group contains a Azure Function apps, a storage account and a SQL Database.\n",
    "ALl the function apps are connected to one key vault which is deployed in a separate ResourceGroup called SharedResource.\n",
    "SharedResources also contains a Azure LogAnalytics workspace and Applicaiton Insights, which is used by all the function apps.\n",
    "The function apps are also connected to the SQL Database and the sotrage acoount in their ResourceGroups.\n",
    "\n",
    "Add a Ingress resource group which contains a API Management service which is connected to the function apps.\n",
    "\"\"\";\n",
    "\n",
    "\n",
    "await Chat(user_prompt);\n"
   ]
  },
  {
   "cell_type": "code",
   "execution_count": null,
   "metadata": {
    "dotnet_interactive": {
     "language": "csharp"
    },
    "polyglot_notebook": {
     "kernelName": "csharp"
    }
   },
   "outputs": [],
   "source": [
    "await Chat(\"Please write the code to a file called 'azure-architecture.eraserdiagram' in a subfolder called architectures in the current directory. \");"
   ]
  }
 ],
 "metadata": {
  "kernelspec": {
   "display_name": ".NET (C#)",
   "language": "C#",
   "name": ".net-csharp"
  },
  "polyglot_notebook": {
   "kernelInfo": {
    "defaultKernelName": "csharp",
    "items": [
     {
      "aliases": [],
      "name": "csharp"
     }
    ]
   }
  }
 },
 "nbformat": 4,
 "nbformat_minor": 2
}
