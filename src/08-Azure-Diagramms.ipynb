{
 "cells": [
  {
   "cell_type": "code",
   "execution_count": null,
   "metadata": {
    "dotnet_interactive": {
     "language": "csharp"
    },
    "polyglot_notebook": {
     "kernelName": "csharp"
    }
   },
   "outputs": [],
   "source": [
    "#r \"nuget: Microsoft.SemanticKernel\"\n",
    "\n",
    "#!import config/Settings.cs\n",
    "\n",
    "using Microsoft.SemanticKernel;\n",
    "using Microsoft.SemanticKernel.ChatCompletion;\n",
    "using Microsoft.SemanticKernel.Connectors.OpenAI;"
   ]
  },
  {
   "cell_type": "code",
   "execution_count": null,
   "metadata": {
    "dotnet_interactive": {
     "language": "csharp"
    },
    "polyglot_notebook": {
     "kernelName": "csharp"
    }
   },
   "outputs": [],
   "source": [
    "using System.IO;\n",
    "\n",
    "public class Architecture\n",
    "{\n",
    "    public string Request { get; set; }\n",
    "    public string Response { get; set; }\n",
    "} \n",
    " \n",
    "static string ParseFile(string filePath)\n",
    "{\n",
    "    var fileContent = File.ReadAllText(filePath);\n",
    "\n",
    "        // Splitting the content into Request and Response\n",
    "        var sections = fileContent.Split(new string[] { \"#Request\", \"#Response\" }, StringSplitOptions.RemoveEmptyEntries);\n",
    "        if (sections.Length >= 2)\n",
    "        {\n",
    "            var setup = new Architecture\n",
    "            {\n",
    "                Request = sections[0].Trim(),\n",
    "                Response = sections[1].Trim()\n",
    "            };\n",
    "\n",
    "            // Serialize to JSON\n",
    "        return JsonSerializer.Serialize(setup);\n",
    "    }\n",
    "    else\n",
    "    {\n",
    "        throw new Exception(\"Invalid file format\");\n",
    "    }\n",
    "}"
   ]
  },
  {
   "cell_type": "code",
   "execution_count": null,
   "metadata": {
    "dotnet_interactive": {
     "language": "csharp"
    },
    "polyglot_notebook": {
     "kernelName": "csharp"
    }
   },
   "outputs": [],
   "source": [
    "var files = Directory.GetFiles(\".\\\\data\\\\eraser-samples\");\n",
    "var archs = files.Select(f => ParseFile(f)).ToList();"
   ]
  },
  {
   "cell_type": "code",
   "execution_count": null,
   "metadata": {
    "dotnet_interactive": {
     "language": "csharp"
    },
    "polyglot_notebook": {
     "kernelName": "csharp"
    }
   },
   "outputs": [],
   "source": [
    "var eraserdiagram_template_promnpt = \n",
    "$\"\"\"\n",
    "You are an expert in creating earaser diagrams. \n",
    "Please create a diagram that shows the process of creating an eraser diagram.\n",
    "Make sure that all open open cury braces are closed with a closing brace.\n",
    "\n",
    "For reference you can use the following samples:\n",
    "\n",
    "## Samples:\n",
    "{JsonSerializer.Serialize(archs)}\n",
    "\"\"\";\n"
   ]
  },
  {
   "cell_type": "code",
   "execution_count": null,
   "metadata": {
    "dotnet_interactive": {
     "language": "csharp"
    },
    "polyglot_notebook": {
     "kernelName": "csharp"
    }
   },
   "outputs": [],
   "source": [
    "using Kernel = Microsoft.SemanticKernel.Kernel;\n",
    "\n",
    "#pragma warning disable SKEXP0001, SKEXP0010\n",
    "\n",
    "var settings = Settings.LoadFromFile(\"config/settings.json\");\n",
    "\n",
    "var builder = Kernel.CreateBuilder();\n",
    "\n",
    "builder.AddAzureOpenAIChatCompletion(settings.model, settings.azureEndpoint, settings.apiKey);\n",
    "\n",
    "var kernel = builder.Build();\n",
    "var chatGPT = kernel.GetRequiredService<IChatCompletionService>();"
   ]
  },
  {
   "cell_type": "code",
   "execution_count": null,
   "metadata": {
    "dotnet_interactive": {
     "language": "csharp"
    },
    "polyglot_notebook": {
     "kernelName": "csharp"
    }
   },
   "outputs": [],
   "source": [
    "var chat = new ChatHistory(eraserdiagram_template_promnpt);"
   ]
  },
  {
   "cell_type": "code",
   "execution_count": null,
   "metadata": {
    "dotnet_interactive": {
     "language": "csharp"
    },
    "polyglot_notebook": {
     "kernelName": "csharp"
    }
   },
   "outputs": [],
   "source": [
    "Func<string, Task> Chat = async (string input) => {\n",
    "    chat.AddUserMessage(input);\n",
    "    var assistantReply = await chatGPT.GetChatMessageContentAsync(chat, new OpenAIPromptExecutionSettings());\n",
    "\n",
    "    Console.WriteLine($\"\\nBot:\");\n",
    "    Console.WriteLine($\"{assistantReply}\\n\");\n",
    "};"
   ]
  },
  {
   "cell_type": "code",
   "execution_count": null,
   "metadata": {
    "dotnet_interactive": {
     "language": "csharp"
    },
    "polyglot_notebook": {
     "kernelName": "csharp"
    }
   },
   "outputs": [],
   "source": [
    "#pragma warning disable SKEXP0001\n",
    "\n",
    "var user_prompt = \"\"\"\n",
    "I want to have a azure architecture diagram for a web application.\n",
    "I want ot have a subscription with 2 ResourceGroups\n",
    "In each ResourceGroup place a StaticWebApp called WebApp1, a storage account called Storage1 and a SQL Database called SQL1.\n",
    "The AppService of each should have a connection to the SQL Database and the Storage Account in their ResourceGroup.\n",
    "Add a third ResourceGroup called SharedResources with a KeyVault called KeyVault1.\n",
    "All static web apps should have connection to the KeyVault.\n",
    "Also create a FrontDoor ResourceGroup with an load balancer called FrontDoor1 which is connected to both StaticWebApps.\n",
    "\"\"\";\n",
    "\n",
    "\n",
    "await Chat(user_prompt);\n"
   ]
  }
 ],
 "metadata": {
  "kernelspec": {
   "display_name": ".NET (C#)",
   "language": "C#",
   "name": ".net-csharp"
  },
  "polyglot_notebook": {
   "kernelInfo": {
    "defaultKernelName": "csharp",
    "items": [
     {
      "aliases": [],
      "name": "csharp"
     }
    ]
   }
  }
 },
 "nbformat": 4,
 "nbformat_minor": 2
}
