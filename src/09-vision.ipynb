{
 "cells": [
  {
   "cell_type": "code",
   "execution_count": null,
   "metadata": {
    "dotnet_interactive": {
     "language": "csharp"
    },
    "polyglot_notebook": {
     "kernelName": "csharp"
    },
    "vscode": {
     "languageId": "polyglot-notebook"
    }
   },
   "outputs": [],
   "source": [
    "#r \"nuget: Microsoft.SemanticKernel\"\n",
    "#r \"nuget: SkiaSharp\"\n",
    "\n",
    "#!import config/Settings.cs\n",
    "#!import config/Utils.cs\n",
    "#!import config/SkiaUtils.cs\n",
    "\n",
    "using Microsoft.SemanticKernel;\n",
    "using Microsoft.SemanticKernel.TextToImage;\n",
    "using Microsoft.SemanticKernel.ChatCompletion;\n",
    "using Microsoft.SemanticKernel.Connectors.OpenAI;"
   ]
  },
  {
   "cell_type": "code",
   "execution_count": null,
   "metadata": {
    "dotnet_interactive": {
     "language": "csharp"
    },
    "polyglot_notebook": {
     "kernelName": "csharp"
    },
    "vscode": {
     "languageId": "polyglot-notebook"
    }
   },
   "outputs": [],
   "source": [
    "using Kernel = Microsoft.SemanticKernel.Kernel;\n",
    "\n",
    "#pragma warning disable SKEXP0001, SKEXP0010\n",
    "\n",
    "var settings = Settings.LoadFromFile(\"config/settings.json\");\n",
    "var builder = Kernel.CreateBuilder();\n",
    "\n",
    "builder\n",
    "    .AddAzureOpenAIChatCompletion(\"gpt4o\", settings.azureEndpoint, settings.apiKey);\n",
    "\n",
    "var kernel = builder.Build();\n",
    "var chatGPT = kernel.GetRequiredService<IChatCompletionService>();"
   ]
  },
  {
   "cell_type": "code",
   "execution_count": null,
   "metadata": {
    "dotnet_interactive": {
     "language": "csharp"
    },
    "polyglot_notebook": {
     "kernelName": "csharp"
    },
    "vscode": {
     "languageId": "polyglot-notebook"
    }
   },
   "outputs": [],
   "source": [
    "public static ImageContent GetImageContent(string path)\n",
    "{\n",
    "        var imageData = new ReadOnlyMemory<byte>(File.ReadAllBytes(path));\n",
    "        ImageContent imageContent = new(new BinaryData(imageData), \"image/png\");\n",
    "        return imageContent; \n",
    "}"
   ]
  },
  {
   "cell_type": "code",
   "execution_count": null,
   "metadata": {
    "dotnet_interactive": {
     "language": "csharp"
    },
    "polyglot_notebook": {
     "kernelName": "csharp"
    },
    "vscode": {
     "languageId": "polyglot-notebook"
    }
   },
   "outputs": [],
   "source": [
    "string systemPrompt = \"\"\"\n",
    "\"You are a helpful assistant. \n",
    "You receive two images: one containing the object to be found in the other.\n",
    "\"\"\";\n",
    "\n",
    "// Add system message\n",
    "var chatHistory = new ChatHistory(systemPrompt);\n",
    "\n",
    "var smallImagePath = \"data/vision/rect.png\";\n",
    "var bigImagePath = \"data/vision/more.png\";\n",
    "var small = GetImageContent(smallImagePath);\n",
    "var big = GetImageContent(bigImagePath);\n",
    "\n",
    "chatHistory.AddUserMessage(new ChatMessageContentItemCollection\n",
    "{\n",
    "    small,\n",
    "    big\n",
    "});"
   ]
  },
  {
   "cell_type": "code",
   "execution_count": null,
   "metadata": {
    "dotnet_interactive": {
     "language": "csharp"
    },
    "polyglot_notebook": {
     "kernelName": "csharp"
    },
    "vscode": {
     "languageId": "polyglot-notebook"
    }
   },
   "outputs": [],
   "source": [
    "var reply = await chatGPT.GetChatMessageContentAsync(chatHistory);\n",
    "\n",
    "await SkiaUtils.ShowLocalImage(smallImagePath, 100, 100);\n",
    "await SkiaUtils.ShowLocalImage(bigImagePath, 500, 500);\n",
    "\n",
    "Console.WriteLine($\"{reply}\");"
   ]
  }
 ],
 "metadata": {
  "kernelspec": {
   "display_name": ".NET (C#)",
   "language": "C#",
   "name": ".net-csharp"
  },
  "language_info": {
   "name": "python"
  },
  "polyglot_notebook": {
   "kernelInfo": {
    "defaultKernelName": "csharp",
    "items": [
     {
      "aliases": [],
      "name": "csharp"
     }
    ]
   }
  }
 },
 "nbformat": 4,
 "nbformat_minor": 2
}
