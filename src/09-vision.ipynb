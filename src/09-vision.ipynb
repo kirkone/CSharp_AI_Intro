{
 "cells": [
  {
   "cell_type": "code",
   "execution_count": 1,
   "metadata": {
    "dotnet_interactive": {
     "language": "csharp"
    },
    "polyglot_notebook": {
     "kernelName": "csharp"
    },
    "vscode": {
     "languageId": "polyglot-notebook"
    }
   },
   "outputs": [
    {
     "data": {
      "text/html": [
       "<div><div></div><div></div><div><strong>Installed Packages</strong><ul><li><span>Microsoft.SemanticKernel, 1.17.1</span></li><li><span>SkiaSharp, 2.88.8</span></li></ul></div></div>"
      ]
     },
     "metadata": {},
     "output_type": "display_data"
    },
    {
     "data": {
      "text/plain": [
       "Loading extensions from `C:\\Users\\mikokono\\.nuget\\packages\\skiasharp\\2.88.8\\interactive-extensions\\dotnet\\SkiaSharp.DotNet.Interactive.dll`"
      ]
     },
     "metadata": {},
     "output_type": "display_data"
    }
   ],
   "source": [
    "#r \"nuget: Microsoft.SemanticKernel\"\n",
    "#r \"nuget: SkiaSharp\"\n",
    "\n",
    "#!import config/Settings.cs\n",
    "#!import config/Utils.cs\n",
    "#!import config/SkiaUtils.cs\n",
    "\n",
    "using Microsoft.SemanticKernel;\n",
    "using Microsoft.SemanticKernel.TextToImage;\n",
    "using Microsoft.SemanticKernel.ChatCompletion;\n",
    "using Microsoft.SemanticKernel.Connectors.OpenAI;"
   ]
  },
  {
   "cell_type": "code",
   "execution_count": 2,
   "metadata": {
    "dotnet_interactive": {
     "language": "csharp"
    },
    "polyglot_notebook": {
     "kernelName": "csharp"
    },
    "vscode": {
     "languageId": "polyglot-notebook"
    }
   },
   "outputs": [],
   "source": [
    "using Kernel = Microsoft.SemanticKernel.Kernel;\n",
    "\n",
    "#pragma warning disable SKEXP0001, SKEXP0010\n",
    "\n",
    "var settings = Settings.LoadFromFile(\"config/settings.json\");\n",
    "var builder = Kernel.CreateBuilder();\n",
    "\n",
    "builder\n",
    "    .AddAzureOpenAIChatCompletion(settings.model, settings.azureEndpoint, settings.apiKey);\n",
    "\n",
    "var kernel = builder.Build();\n",
    "var chatGPT = kernel.GetRequiredService<IChatCompletionService>();"
   ]
  },
  {
   "cell_type": "code",
   "execution_count": 3,
   "metadata": {
    "dotnet_interactive": {
     "language": "csharp"
    },
    "polyglot_notebook": {
     "kernelName": "csharp"
    },
    "vscode": {
     "languageId": "polyglot-notebook"
    }
   },
   "outputs": [],
   "source": [
    "public static ImageContent GetImageContent(string path)\n",
    "{\n",
    "        var imageData = new ReadOnlyMemory<byte>(File.ReadAllBytes(path));\n",
    "        ImageContent imageContent = new(new BinaryData(imageData), \"image/png\");\n",
    "        return imageContent; \n",
    "}"
   ]
  },
  {
   "cell_type": "markdown",
   "metadata": {},
   "source": [
    "__Vision__\n",
    "\n",
    "This samples uses the [GPT-4 Turbo Vision](https://learn.microsoft.com/en-us/azure/ai-services/openai/how-to/gpt-with-vision?tabs=rest%2Csystem-assigned%2Cresource) capabilities to \"read\" images. The code loads two images and tells the model to count how often shte small image is in the larger one."
   ]
  },
  {
   "cell_type": "code",
   "execution_count": 4,
   "metadata": {
    "dotnet_interactive": {
     "language": "csharp"
    },
    "polyglot_notebook": {
     "kernelName": "csharp"
    },
    "vscode": {
     "languageId": "polyglot-notebook"
    }
   },
   "outputs": [],
   "source": [
    "string systemPrompt = \"\"\"\n",
    "\"You are a helpful assistant. \n",
    "You receive two images: one containing the object to be found in the other.\n",
    "\"\"\";\n",
    "\n",
    "// Add system message\n",
    "var chatHistory = new ChatHistory(systemPrompt);\n",
    "\n",
    "var smallImagePath = \"data/vision/rect.png\";\n",
    "var bigImagePath = \"data/vision/more.png\";\n",
    "var small = GetImageContent(smallImagePath);\n",
    "var big = GetImageContent(bigImagePath);\n",
    "\n",
    "chatHistory.AddUserMessage(new ChatMessageContentItemCollection\n",
    "{\n",
    "    small,\n",
    "    big\n",
    "});"
   ]
  },
  {
   "cell_type": "code",
   "execution_count": 5,
   "metadata": {
    "dotnet_interactive": {
     "language": "csharp"
    },
    "polyglot_notebook": {
     "kernelName": "csharp"
    },
    "vscode": {
     "languageId": "polyglot-notebook"
    }
   },
   "outputs": [
    {
     "data": {
      "text/html": [
       "<div><img src=\"data:image/png;base64,iVBORw0KGgoAAAANSUhEUgAAAGQAAABkCAYAAABw4pVUAAAABHNCSVQICAgIfAhkiAAABM1JREFUeJztnT1PIlEUhu+YLQArlIAgFkQCpXYkhlBpYq0lEUQS/TEOQkEUfgExYCilsDNixkorArWFsZFJYGYaOVsYb2aWXXf48h52z5NMci0uvIdnvieekQAAGIGGBdEBCCskBBkkBBkkBBkkBBkkBBkkBBkkBBkkBBkkBBkkBBkkBBkkBBkkBBkkBBkkBBkkBBkkBBkkBBkkBBk/RAewAwAwRVFYo9FgiqKwdrvNXl5emK7r35rD6XSylZUVFo1GWSwWY7u7uywWizFJkqb3JYAYTdOgUChAOBwGxhjKJRwOQz6fB03TplIzWiH1eh3W1taE/+B2l2AwCFdXVxPXjU6IYRiQzWaHCna73ZDNZqFSqUCr1YJer/ft2Xq9HrRaLahUKpDNZsHtdg/lPDo6Al3Xx/4OVEJUVYVEImEp0OfzQbFYnNouYZpomgbn5+fg9/stmROJBKiqOtZnohFiGMaQjGQyCW9vb6Kj/ZVutwsHBwdDUsbZUtAIMe+mJEmC09NT0ZFGRpZlkCSJ15HJZEb+DBRC6vW6Ze2aRxmfyLJsqaVWq400X7gQTdMsZ1PJZFJ0pIlJpVKWs69+v297rnAhhULBcgCfh2PG31BV1XKgz+VytucKFTIYDCwXfcViUWScqVIqlXhdoVAI3t/fbc0TKuT+/t5ynYHx1HZcdF2H5eVlXt/d3Z2teUJvLjYaDT7e29tjTqdTYJrp4nA42P7+Pv/7+vra1jyhQhRF4ePt7W2BSWbDzs4OH5tr/QqhQtrtNh9vbm4KTDIbNjY2+Nhc61dIAOL+x9DlcvFb6L1ejy0uLoqKMhN0XWcul4sx9rELs/O4QKgQ83MEgTFmyqg10hNDZJAQZJAQZJAQZJAQZJAQZJAQZJAQZJAQZJAQZJAQZJAQZJAQZJAQZJAQZJAQZJAQZJAQZJAQZJAQZJAQZJAQZJAQZJAQZJAQZJAQZJAQZJAQZJAQZJAQZJAQZJAQZJAQZJAQZJAQZJAQZJAQZJAQZJAQZAgVYu5t0u/3BSaZDeZGAQ6Hw9YcoUJ8Ph8fPz8/C0wyG8w1eb1eW3OEColGo3z8+PgoMMlseHp64uNIJGJrjlAhsViMj29ubgQmmQ3mmsy1fsnMOnjZoNls8gZfS0tLEzUgxoZhGODxeHh9t7e3tuYJb/G3vr7OQ19cXIiMM1XK5fL8tfgDADg7O+PB/X4/dLtd0ZEmRlVVWF1d5XXJsmx7rnAh/X4fgsEgD59KpURHmphMJsPrCQQCI/WpFy4EAKBWq1maD+fzedGRxsbc9pYxBpeXlyPNRyEEAODw8NDSanwepRQKBUur8XQ6PfJnoBGi6zrE43HL2pVOp8d+y8B3oqqqZTfFGIN4PD7fzfgBPgr7VUogEIBSqQSGYYiON4RhGFAuly0H8E8Z456coBIC8LGlmHdfn4vH44Hj42OoVqvQ6XSENF3WNA06nQ5Uq1U4OTmxXGeYt+p/5oUuZqrV6tCah3kJBAIjH8B/B1ohAB+nxLlcDkKhkPAf/E9LKBQCWZan9gomoW1i7TIYDFiz2WSNRoM9PDywdrvNXl9fmWEY35rD4XAwr9fLIpEIf23e1tYWW1iY3i3BuRDyP0FPDJFBQpBBQpBBQpBBQpBBQpDxE2BF+9exxY8cAAAAAElFTkSuQmCC\"></img></div>"
      ]
     },
     "metadata": {},
     "output_type": "display_data"
    },
    {
     "data": {
      "text/html": [
       "<div><img src=\"data:image/png;base64,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\"></img></div>"
      ]
     },
     "metadata": {},
     "output_type": "display_data"
    },
    {
     "name": "stdout",
     "output_type": "stream",
     "text": [
      "The object in the first image can be found five times in various positions in the second image.\r\n"
     ]
    }
   ],
   "source": [
    "var reply = await chatGPT.GetChatMessageContentAsync(chatHistory);\n",
    "\n",
    "await SkiaUtils.ShowLocalImage(smallImagePath, 100, 100);\n",
    "await SkiaUtils.ShowLocalImage(bigImagePath, 500, 500);\n",
    "\n",
    "Console.WriteLine($\"{reply}\");"
   ]
  }
 ],
 "metadata": {
  "kernelspec": {
   "display_name": ".NET (C#)",
   "language": "C#",
   "name": ".net-csharp"
  },
  "language_info": {
   "name": "python"
  },
  "polyglot_notebook": {
   "kernelInfo": {
    "defaultKernelName": "csharp",
    "items": [
     {
      "aliases": [],
      "name": "csharp"
     }
    ]
   }
  }
 },
 "nbformat": 4,
 "nbformat_minor": 2
}
