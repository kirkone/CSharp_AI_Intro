{
 "cells": [
  {
   "cell_type": "markdown",
   "metadata": {},
   "source": [
    "# WIP"
   ]
  },
  {
   "cell_type": "code",
   "execution_count": 8,
   "metadata": {
    "dotnet_interactive": {
     "language": "csharp"
    },
    "polyglot_notebook": {
     "kernelName": "csharp"
    },
    "vscode": {
     "languageId": "polyglot-notebook"
    }
   },
   "outputs": [
    {
     "data": {
      "text/html": [
       "<div><div></div><div></div><div><strong>Installed Packages</strong><ul><li><span>Microsoft.SemanticKernel, 1.16.2</span></li><li><span>Microsoft.SemanticKernel.Agents.Abstractions, 1.16.2-alpha</span></li><li><span>Microsoft.SemanticKernel.Agents.Core, 1.16.2-alpha</span></li><li><span>Microsoft.SemanticKernel.Agents.OpenAI, 1.16.2-alpha</span></li></ul></div></div>"
      ]
     },
     "metadata": {},
     "output_type": "display_data"
    }
   ],
   "source": [
    "#r \"nuget: Microsoft.SemanticKernel\"\n",
    "#r \"nuget: Microsoft.SemanticKernel.Agents.Abstractions, *-*\"\n",
    "#r \"nuget: Microsoft.SemanticKernel.Agents.Core, *-*\"\n",
    "#r \"nuget: Microsoft.SemanticKernel.Agents.OpenAI, *-*\"\n",
    "\n",
    "\n",
    "#!import config/Settings.cs\n",
    "#!import plugins/FilesPlugin.cs\n",
    "\n",
    "using Microsoft.SemanticKernel;\n",
    "using Microsoft.SemanticKernel.ChatCompletion;\n",
    "using Microsoft.SemanticKernel.Connectors.OpenAI;\n",
    "using Microsoft.SemanticKernel.Agents;\n",
    "\n",
    "using Kernel = Microsoft.SemanticKernel.Kernel;"
   ]
  },
  {
   "cell_type": "code",
   "execution_count": 10,
   "metadata": {
    "dotnet_interactive": {
     "language": "csharp"
    },
    "polyglot_notebook": {
     "kernelName": "csharp"
    },
    "vscode": {
     "languageId": "polyglot-notebook"
    }
   },
   "outputs": [],
   "source": [
    "#pragma warning disable SKEXP0001, SKEXP0010\n",
    "\n",
    "var settings = Settings.LoadFromFile(\"config/settings.json\");\n",
    "\n",
    "var builder = Kernel.CreateBuilder();\n",
    "\n",
    "builder.AddAzureOpenAIChatCompletion(settings.model, settings.azureEndpoint, settings.apiKey);\n",
    "\n",
    "var kernel = builder.Build();"
   ]
  },
  {
   "cell_type": "markdown",
   "metadata": {},
   "source": [
    "__Agents__\n",
    "\n",
    "The following code creates the agents."
   ]
  },
  {
   "cell_type": "code",
   "execution_count": 5,
   "metadata": {
    "dotnet_interactive": {
     "language": "csharp"
    },
    "polyglot_notebook": {
     "kernelName": "csharp"
    },
    "vscode": {
     "languageId": "polyglot-notebook"
    }
   },
   "outputs": [],
   "source": [
    "#pragma warning disable SKEXP0110, SKEXP0001 \n",
    "\n",
    "var ProgamManager = \"\"\"\n",
    "    You are a program manager which will take the requirement and create a plan for creating app. Program Manager understands the \n",
    "    user requirements and form the detail documents with requirements and costing. \n",
    "\"\"\";\n",
    "\n",
    "ChatCompletionAgent ProgaramManagerAgent =\n",
    "            new()\n",
    "            {\n",
    "                Instructions = ProgamManager,\n",
    "                Name = nameof(ProgaramManagerAgent),\n",
    "                Kernel = kernel\n",
    "            };"
   ]
  },
  {
   "cell_type": "code",
   "execution_count": null,
   "metadata": {
    "dotnet_interactive": {
     "language": "csharp"
    },
    "polyglot_notebook": {
     "kernelName": "csharp"
    },
    "vscode": {
     "languageId": "polyglot-notebook"
    }
   },
   "outputs": [],
   "source": [
    "#pragma warning disable SKEXP0110, SKEXP0001 \n",
    "\n",
    "var SoftwareEngineer = \"\"\"\n",
    "   You are Software Engieer, and your goal is develop web app using HTML and JavaScript (JS) by taking into consideration all\n",
    "   the requirements given by Program Manager. \n",
    "\"\"\";\n",
    "\n",
    "ChatCompletionAgent SoftwareEngineerAgent =\n",
    "            new()\n",
    "            {\n",
    "                Instructions = SoftwareEngineer,\n",
    "                Name = nameof(SoftwareEngineerAgent),\n",
    "                Kernel = kernel\n",
    "            };"
   ]
  },
  {
   "cell_type": "code",
   "execution_count": 3,
   "metadata": {
    "dotnet_interactive": {
     "language": "csharp"
    },
    "polyglot_notebook": {
     "kernelName": "csharp"
    },
    "vscode": {
     "languageId": "polyglot-notebook"
    }
   },
   "outputs": [
    {
     "ename": "Error",
     "evalue": "(13,26): error CS0103: The name 'kernel' does not exist in the current context",
     "output_type": "error",
     "traceback": [
      "(13,26): error CS0103: The name 'kernel' does not exist in the current context"
     ]
    }
   ],
   "source": [
    "#pragma warning disable SKEXP0110, SKEXP0001 \n",
    "\n",
    "string Manager = \"\"\"\n",
    "    You are manager which will review software engineer code, and make sure all client requirements are completed.\n",
    "     Once all client requirements are completed, you can approve the request by just responding \"approve\"\n",
    "\"\"\";\n",
    "\n",
    " ChatCompletionAgent ProjectManagerAgent =\n",
    "            new()\n",
    "            {\n",
    "                Instructions = Manager,\n",
    "                Name = nameof(ProjectManagerAgent),\n",
    "                Kernel = kernel\n",
    "            };"
   ]
  },
  {
   "cell_type": "code",
   "execution_count": 17,
   "metadata": {
    "dotnet_interactive": {
     "language": "csharp"
    },
    "polyglot_notebook": {
     "kernelName": "csharp"
    },
    "vscode": {
     "languageId": "polyglot-notebook"
    }
   },
   "outputs": [
    {
     "ename": "Error",
     "evalue": "Azure.RequestFailedException: Invalid URL (POST /v1/assistants)\r\nStatus: 404 (model_error)\r\n\r\nContent:\r\n{\n  \"error\": {\n    \"message\": \"Invalid URL (POST /v1/assistants)\",\n    \"type\": \"invalid_request_error\",\n    \"param\": null,\n    \"code\": null\n  }\n}\r\n\r\nHeaders:\r\napim-request-id: REDACTED\r\nx-ms-region: REDACTED\r\nX-Request-ID: REDACTED\r\nms-azureml-model-error-reason: REDACTED\r\nms-azureml-model-error-statuscode: REDACTED\r\nStrict-Transport-Security: REDACTED\r\nazureml-model-session: REDACTED\r\nX-Content-Type-Options: REDACTED\r\nx-envoy-upstream-service-time: REDACTED\r\nx-ms-client-request-id: 93495988-66a7-4121-80e3-29c5ebd71dfb\r\nx-ratelimit-remaining-requests: REDACTED\r\nx-ratelimit-remaining-tokens: REDACTED\r\nDate: Sat, 03 Aug 2024 09:53:13 GMT\r\nContent-Length: 145\r\nContent-Type: application/json\r\n\r\n   at Azure.Core.HttpPipelineExtensions.ProcessMessageAsync(HttpPipeline pipeline, HttpMessage message, RequestContext requestContext, CancellationToken cancellationToken)\r\n   at Azure.AI.OpenAI.Assistants.AssistantsClient.CreateAssistantAsync(RequestContent content, RequestContext context)\r\n   at Azure.AI.OpenAI.Assistants.AssistantsClient.CreateAssistantAsync(AssistantCreationOptions assistantCreationOptions, CancellationToken cancellationToken)\r\n   at Microsoft.SemanticKernel.Agents.OpenAI.OpenAIAssistantAgent.CreateAsync(Kernel kernel, OpenAIAssistantConfiguration config, OpenAIAssistantDefinition definition, CancellationToken cancellationToken)\r\n   at Submission#21.<<Initialize>>d__0.MoveNext()\r\n--- End of stack trace from previous location ---\r\n   at Microsoft.CodeAnalysis.Scripting.ScriptExecutionState.RunSubmissionsAsync[TResult](ImmutableArray`1 precedingExecutors, Func`2 currentExecutor, StrongBox`1 exceptionHolderOpt, Func`2 catchExceptionOpt, CancellationToken cancellationToken)",
     "output_type": "error",
     "traceback": [
      "Azure.RequestFailedException: Invalid URL (POST /v1/assistants)\r\n",
      "Status: 404 (model_error)\r\n",
      "\r\n",
      "Content:\r\n",
      "{\n",
      "  \"error\": {\n",
      "    \"message\": \"Invalid URL (POST /v1/assistants)\",\n",
      "    \"type\": \"invalid_request_error\",\n",
      "    \"param\": null,\n",
      "    \"code\": null\n",
      "  }\n",
      "}\r\n",
      "\r\n",
      "Headers:\r\n",
      "apim-request-id: REDACTED\r\n",
      "x-ms-region: REDACTED\r\n",
      "X-Request-ID: REDACTED\r\n",
      "ms-azureml-model-error-reason: REDACTED\r\n",
      "ms-azureml-model-error-statuscode: REDACTED\r\n",
      "Strict-Transport-Security: REDACTED\r\n",
      "azureml-model-session: REDACTED\r\n",
      "X-Content-Type-Options: REDACTED\r\n",
      "x-envoy-upstream-service-time: REDACTED\r\n",
      "x-ms-client-request-id: 93495988-66a7-4121-80e3-29c5ebd71dfb\r\n",
      "x-ratelimit-remaining-requests: REDACTED\r\n",
      "x-ratelimit-remaining-tokens: REDACTED\r\n",
      "Date: Sat, 03 Aug 2024 09:53:13 GMT\r\n",
      "Content-Length: 145\r\n",
      "Content-Type: application/json\r\n",
      "\r\n",
      "   at Azure.Core.HttpPipelineExtensions.ProcessMessageAsync(HttpPipeline pipeline, HttpMessage message, RequestContext requestContext, CancellationToken cancellationToken)\r\n",
      "   at Azure.AI.OpenAI.Assistants.AssistantsClient.CreateAssistantAsync(RequestContent content, RequestContext context)\r\n",
      "   at Azure.AI.OpenAI.Assistants.AssistantsClient.CreateAssistantAsync(AssistantCreationOptions assistantCreationOptions, CancellationToken cancellationToken)\r\n",
      "   at Microsoft.SemanticKernel.Agents.OpenAI.OpenAIAssistantAgent.CreateAsync(Kernel kernel, OpenAIAssistantConfiguration config, OpenAIAssistantDefinition definition, CancellationToken cancellationToken)\r\n",
      "   at Submission#21.<<Initialize>>d__0.MoveNext()\r\n",
      "--- End of stack trace from previous location ---\r\n",
      "   at Microsoft.CodeAnalysis.Scripting.ScriptExecutionState.RunSubmissionsAsync[TResult](ImmutableArray`1 precedingExecutors, Func`2 currentExecutor, StrongBox`1 exceptionHolderOpt, Func`2 catchExceptionOpt, CancellationToken cancellationToken)"
     ]
    }
   ],
   "source": [
    "using Microsoft.SemanticKernel.Agents.OpenAI;\n",
    "using Azure.AI.OpenAI.Assistants;\n",
    "#pragma warning disable SKEXP0110, SKEXP0001 \n",
    "\n",
    "string FileManager = \"\"\"\n",
    "    You are managing files. \n",
    "    If one client wants to read a file or wirte content to one you will do this for them.\n",
    "\"\"\";\n",
    "\n",
    "var fileManagerKernelBuilder = Kernel.CreateBuilder();\n",
    "var fileManagerkernel = fileManagerKernelBuilder.Build();\n",
    "\n",
    "OpenAIAssistantConfiguration config = new(settings.apiKey, settings.azureEndpoint);\n",
    "\n",
    " OpenAIAssistantAgent  FileManagerAgent =\n",
    "           await OpenAIAssistantAgent.CreateAsync(\n",
    "                kernel: fileManagerkernel,\n",
    "                config: config,\n",
    "                new(){\n",
    "                    Name = nameof(FileManagerAgent),\n",
    "                    Instructions = FileManager,\n",
    "                    ModelId = settings.model,\n",
    "                    EnableCodeInterpreter = true,\n",
    "                });\n",
    "                "
   ]
  },
  {
   "cell_type": "code",
   "execution_count": null,
   "metadata": {
    "dotnet_interactive": {
     "language": "csharp"
    },
    "polyglot_notebook": {
     "kernelName": "csharp"
    },
    "vscode": {
     "languageId": "polyglot-notebook"
    }
   },
   "outputs": [],
   "source": [
    "using System.Threading;\n",
    "using Microsoft.SemanticKernel.Agents;\n",
    "using Microsoft.SemanticKernel.Agents.Chat;\n",
    "\n",
    "#pragma warning disable SKEXP0110, SKEXP0001 \n",
    "private sealed class ApprovalTerminationStrategy : TerminationStrategy\n",
    "{\n",
    "    // Terminate when the final message contains the term \"approve\"\n",
    "    protected override Task<bool> ShouldAgentTerminateAsync(Agent agent, IReadOnlyList<ChatMessageContent> history, CancellationToken cancellationToken)\n",
    "        => Task.FromResult(history[history.Count - 1].Content?.Contains(\"approve\", StringComparison.OrdinalIgnoreCase) ?? false);\n",
    "}\n",
    "\n"
   ]
  },
  {
   "cell_type": "code",
   "execution_count": null,
   "metadata": {
    "dotnet_interactive": {
     "language": "csharp"
    },
    "polyglot_notebook": {
     "kernelName": "csharp"
    },
    "vscode": {
     "languageId": "polyglot-notebook"
    }
   },
   "outputs": [],
   "source": []
  },
  {
   "cell_type": "code",
   "execution_count": null,
   "metadata": {
    "dotnet_interactive": {
     "language": "csharp"
    },
    "polyglot_notebook": {
     "kernelName": "csharp"
    },
    "vscode": {
     "languageId": "polyglot-notebook"
    }
   },
   "outputs": [],
   "source": [
    "using Microsoft.SemanticKernel.Agents;\n",
    "#pragma warning disable SKEXP0110, SKEXP0001 \n",
    "\n",
    "AgentGroupChat chat =\n",
    "            new(ProgaramManagerAgent, SoftwareEngineerAgent, ProjectManagerAgent)\n",
    "            {\n",
    "                ExecutionSettings =\n",
    "                    new()\n",
    "                    {\n",
    "                        TerminationStrategy =\n",
    "                            new ApprovalTerminationStrategy()\n",
    "                            {\n",
    "                                Agents = [ProjectManagerAgent],\n",
    "                                MaximumIterations = 6,\n",
    "                            }\n",
    "                    }\n",
    "            };\n",
    "\n",
    "AgentGroupChatSettings s = new ()"
   ]
  },
  {
   "cell_type": "code",
   "execution_count": null,
   "metadata": {
    "dotnet_interactive": {
     "language": "csharp"
    },
    "polyglot_notebook": {
     "kernelName": "csharp"
    },
    "vscode": {
     "languageId": "polyglot-notebook"
    }
   },
   "outputs": [],
   "source": [
    "#pragma warning disable SKEXP0110, SKEXP0001 \n",
    "\n",
    "var input = \"\"\"\n",
    "I want to develop calculator app. \n",
    "Keep it very simple. And get final approval from manager.\n",
    "\"\"\";\n",
    "\n",
    "chat.AddChatMessage(new ChatMessageContent(AuthorRole.User, input));\n",
    "Console.WriteLine($\"# {AuthorRole.User}: '{input}'\");\n",
    "\n",
    "await foreach (var content in chat.InvokeAsync())\n",
    "{\n",
    "    Console.WriteLine($\"# {content.Role} - {content.AuthorName ?? \"*\"}: '{content.Content}'\");\n",
    "}"
   ]
  }
 ],
 "metadata": {
  "kernelspec": {
   "display_name": ".NET (C#)",
   "language": "C#",
   "name": ".net-csharp"
  },
  "language_info": {
   "name": "python"
  },
  "polyglot_notebook": {
   "kernelInfo": {
    "defaultKernelName": "csharp",
    "items": [
     {
      "aliases": [],
      "name": "csharp"
     }
    ]
   }
  }
 },
 "nbformat": 4,
 "nbformat_minor": 2
}
