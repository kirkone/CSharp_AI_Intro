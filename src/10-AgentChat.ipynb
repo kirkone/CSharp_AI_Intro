{
 "cells": [
  {
   "cell_type": "code",
   "execution_count": null,
   "metadata": {
    "dotnet_interactive": {
     "language": "csharp"
    },
    "polyglot_notebook": {
     "kernelName": "csharp"
    },
    "vscode": {
     "languageId": "polyglot-notebook"
    }
   },
   "outputs": [],
   "source": [
    "#r \"nuget: Microsoft.SemanticKernel\"\n",
    "#r \"nuget: Microsoft.SemanticKernel.Agents.Abstractions, *-*\"\n",
    "#r \"nuget: Microsoft.SemanticKernel.Agents.Core, *-*\"\n",
    "#r \"nuget: Microsoft.SemanticKernel.Agents.OpenAI, *-*\"\n",
    "\n",
    "\n",
    "#!import config/Settings.cs\n",
    "#!import plugins/FilesPlugin.cs\n",
    "\n",
    "using Microsoft.SemanticKernel;\n",
    "using Microsoft.SemanticKernel.ChatCompletion;\n",
    "using Microsoft.SemanticKernel.Connectors.OpenAI;\n",
    "using Microsoft.SemanticKernel.Agents;\n",
    "\n",
    "using Kernel = Microsoft.SemanticKernel.Kernel;"
   ]
  },
  {
   "cell_type": "code",
   "execution_count": null,
   "metadata": {
    "dotnet_interactive": {
     "language": "csharp"
    },
    "polyglot_notebook": {
     "kernelName": "csharp"
    },
    "vscode": {
     "languageId": "polyglot-notebook"
    }
   },
   "outputs": [],
   "source": [
    "#pragma warning disable SKEXP0001, SKEXP0010\n",
    "\n",
    "var settings = Settings.LoadFromFile(\"config/settings.json\");\n",
    "\n",
    "var builder = Kernel.CreateBuilder();\n",
    "\n",
    "builder.AddAzureOpenAIChatCompletion(settings.model, settings.azureEndpoint, settings.apiKey);\n",
    "\n",
    "var kernel = builder.Build();"
   ]
  },
  {
   "cell_type": "markdown",
   "metadata": {},
   "source": [
    "__Agents__\n",
    "\n",
    "The following code creates the agents."
   ]
  },
  {
   "cell_type": "code",
   "execution_count": null,
   "metadata": {
    "dotnet_interactive": {
     "language": "csharp"
    },
    "polyglot_notebook": {
     "kernelName": "csharp"
    },
    "vscode": {
     "languageId": "polyglot-notebook"
    }
   },
   "outputs": [],
   "source": [
    "#pragma warning disable SKEXP0110, SKEXP0001 \n",
    "\n",
    "var ProgamManager = \"\"\"\n",
    "    You are a program manager which will take the requirement and create a plan for creating app. Program Manager understands the \n",
    "    user requirements and form the detail documents with requirements and costing. \n",
    "\"\"\";\n",
    "\n",
    "ChatCompletionAgent ProgaramManagerAgent =\n",
    "            new()\n",
    "            {\n",
    "                Instructions = ProgamManager,\n",
    "                Name = nameof(ProgaramManagerAgent),\n",
    "                Kernel = kernel\n",
    "            };"
   ]
  },
  {
   "cell_type": "code",
   "execution_count": null,
   "metadata": {
    "dotnet_interactive": {
     "language": "csharp"
    },
    "polyglot_notebook": {
     "kernelName": "csharp"
    },
    "vscode": {
     "languageId": "polyglot-notebook"
    }
   },
   "outputs": [],
   "source": [
    "#pragma warning disable SKEXP0110, SKEXP0001 \n",
    "\n",
    "var ProductOwner = \"\"\"\n",
    "   You are Product Owner, and your goal is to write proper Product Backlog Items. \n",
    "   You take all the requirements fgiven by the Program Manager and write proper Backlog Items.\n",
    "   The PBI has a title, description and a list of Accecteance Criteria.\n",
    "   \n",
    "   The description sould follow the following schema:\n",
    "   As a <Role | User, Developer etc > I want to .....\n",
    "\"\"\";\n",
    "\n",
    "ChatCompletionAgent ProductOwnerAgent =\n",
    "            new()\n",
    "            {\n",
    "                Instructions = ProductOwner,\n",
    "                Name = nameof(ProductOwnerAgent),\n",
    "                Kernel = kernel\n",
    "            };"
   ]
  },
  {
   "cell_type": "code",
   "execution_count": null,
   "metadata": {
    "dotnet_interactive": {
     "language": "csharp"
    },
    "polyglot_notebook": {
     "kernelName": "csharp"
    },
    "vscode": {
     "languageId": "polyglot-notebook"
    }
   },
   "outputs": [],
   "source": [
    "#pragma warning disable SKEXP0110, SKEXP0001 \n",
    "\n",
    "string ScrumMaster = \"\"\"\n",
    "    You are manager which will review ProductOwner Product Backlog Items, and make sure all client requirements are in.\n",
    "    Once the Product Backlog Item is in a good shape you can approve the request by just responding \"approve\"\n",
    "\"\"\";\n",
    "\n",
    " ChatCompletionAgent ScrumMasterAgent =\n",
    "            new()\n",
    "            {\n",
    "                Instructions = ScrumMaster,\n",
    "                Name = nameof(ScrumMasterAgent),\n",
    "                Kernel = kernel\n",
    "            };"
   ]
  },
  {
   "cell_type": "code",
   "execution_count": null,
   "metadata": {
    "dotnet_interactive": {
     "language": "csharp"
    },
    "polyglot_notebook": {
     "kernelName": "csharp"
    },
    "vscode": {
     "languageId": "polyglot-notebook"
    }
   },
   "outputs": [],
   "source": [
    "using System.Threading;\n",
    "using Microsoft.SemanticKernel.Agents;\n",
    "using Microsoft.SemanticKernel.Agents.Chat;\n",
    "\n",
    "#pragma warning disable SKEXP0110, SKEXP0001 \n",
    "private sealed class ApprovalTerminationStrategy : TerminationStrategy\n",
    "{\n",
    "    // Terminate when the final message contains the term \"approve\"\n",
    "    protected override Task<bool> ShouldAgentTerminateAsync(Agent agent, IReadOnlyList<ChatMessageContent> history, CancellationToken cancellationToken)\n",
    "        => Task.FromResult(history[history.Count - 1].Content?.Contains(\"approve\", StringComparison.OrdinalIgnoreCase) ?? false);\n",
    "}"
   ]
  },
  {
   "cell_type": "code",
   "execution_count": null,
   "metadata": {
    "dotnet_interactive": {
     "language": "csharp"
    },
    "polyglot_notebook": {
     "kernelName": "csharp"
    },
    "vscode": {
     "languageId": "polyglot-notebook"
    }
   },
   "outputs": [],
   "source": [
    "using Microsoft.SemanticKernel.Agents;\n",
    "#pragma warning disable SKEXP0110, SKEXP0001 \n",
    "\n",
    "AgentGroupChat chat =\n",
    "            new(ProgaramManagerAgent, ProductOwnerAgent, ScrumMasterAgent)\n",
    "            {\n",
    "                ExecutionSettings =\n",
    "                    new()\n",
    "                    {\n",
    "                        TerminationStrategy =\n",
    "                            new ApprovalTerminationStrategy()\n",
    "                            {\n",
    "                                Agents = [ScrumMasterAgent],\n",
    "                                MaximumIterations = 6,\n",
    "                            }\n",
    "                    }\n",
    "            };"
   ]
  },
  {
   "cell_type": "code",
   "execution_count": null,
   "metadata": {
    "dotnet_interactive": {
     "language": "csharp"
    },
    "polyglot_notebook": {
     "kernelName": "csharp"
    },
    "vscode": {
     "languageId": "polyglot-notebook"
    }
   },
   "outputs": [],
   "source": [
    "#pragma warning disable SKEXP0110, SKEXP0001 \n",
    "\n",
    "var input = \"\"\"\n",
    "I want to develop a calculator application.\n",
    "The calculator shall be used to do scientific calculations.\n",
    "Beside of basic artihmertics also sin functions, log, and root and pow functions should be posible.\n",
    "Please help me.\n",
    "\"\"\";\n",
    "\n",
    "chat.AddChatMessage(new ChatMessageContent(AuthorRole.User, input));\n",
    "\n",
    "await foreach (var content in chat.InvokeAsync())\n",
    "{\n",
    "    Console.WriteLine($\"# {content.Role} - {content.AuthorName ?? \"*\"}: '{content.Content}'\");\n",
    "}"
   ]
  }
 ],
 "metadata": {
  "kernelspec": {
   "display_name": ".NET (C#)",
   "language": "C#",
   "name": ".net-csharp"
  },
  "language_info": {
   "name": "python"
  },
  "polyglot_notebook": {
   "kernelInfo": {
    "defaultKernelName": "csharp",
    "items": [
     {
      "aliases": [],
      "name": "csharp"
     }
    ]
   }
  }
 },
 "nbformat": 4,
 "nbformat_minor": 2
}
