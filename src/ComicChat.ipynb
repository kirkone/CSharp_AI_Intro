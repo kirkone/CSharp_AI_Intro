{
 "cells": [
  {
   "cell_type": "code",
   "execution_count": 1,
   "metadata": {
    "dotnet_interactive": {
     "language": "csharp"
    },
    "polyglot_notebook": {
     "kernelName": "csharp"
    }
   },
   "outputs": [
    {
     "data": {
      "text/html": [
       "<div><div></div><div></div><div><strong>Installed Packages</strong><ul><li><span>Microsoft.SemanticKernel, 1.11.1</span></li><li><span>SkiaSharp, 2.88.3</span></li></ul></div></div>"
      ]
     },
     "metadata": {},
     "output_type": "display_data"
    },
    {
     "data": {
      "text/plain": [
       "Loading extensions from `C:\\Users\\mikokono\\.nuget\\packages\\skiasharp\\2.88.3\\interactive-extensions\\dotnet\\SkiaSharp.DotNet.Interactive.dll`"
      ]
     },
     "metadata": {},
     "output_type": "display_data"
    }
   ],
   "source": [
    "// Usual setup: importing Semantic Kernel SDK and SkiaSharp, used to display images inline.\n",
    "\n",
    "#r \"nuget: Microsoft.SemanticKernel, 1.11.1\"\n",
    "#r \"nuget: SkiaSharp, 2.88.3\"\n",
    "\n",
    "#!import config/Settings.cs\n",
    "#!import config/Utils.cs\n",
    "#!import config/SkiaUtils.cs\n",
    "\n",
    "using Microsoft.SemanticKernel;\n",
    "using Microsoft.SemanticKernel.TextToImage;\n",
    "using Microsoft.SemanticKernel.ChatCompletion;\n",
    "using Microsoft.SemanticKernel.Connectors.OpenAI;"
   ]
  },
  {
   "cell_type": "code",
   "execution_count": null,
   "metadata": {
    "dotnet_interactive": {
     "language": "csharp"
    },
    "polyglot_notebook": {
     "kernelName": "csharp"
    }
   },
   "outputs": [],
   "source": [
    "using Kernel = Microsoft.SemanticKernel.Kernel;\n",
    "\n",
    "#pragma warning disable SKEXP0001, SKEXP0010\n",
    "\n",
    "// Load OpenAI credentials from config/settings.json\n",
    "var (useAzureOpenAI, model, azureEndpoint, apiKey, orgId) = Settings.LoadFromFile(\"config/settings.json\");\n",
    "\n",
    "// Configure the two AI features: OpenAI Chat and DALL-E 3 for image generation\n",
    "var builder = Kernel.CreateBuilder();\n",
    "\n",
    "if(useAzureOpenAI)\n",
    "{\n",
    "    builder.AddAzureOpenAIChatCompletion(model, azureEndpoint, apiKey);\n",
    "    builder.AddAzureOpenAITextToImage(\"dall-e-3\", azureEndpoint, apiKey);\n",
    "}\n",
    "else\n",
    "{\n",
    "    builder.AddOpenAIChatCompletion(\"gpt-3.5-turbo\", apiKey, orgId);\n",
    "    builder.AddOpenAITextToImage(apiKey, orgId);\n",
    "}\n",
    "\n",
    "var kernel = builder.Build();\n",
    "\n",
    "// Get AI service instance used to generate images\n",
    "var dallE = kernel.GetRequiredService<ITextToImageService>();\n",
    "\n",
    "// Get AI service instance used to manage the user chat\n",
    "var chatGPT = kernel.GetRequiredService<IChatCompletionService>();"
   ]
  },
  {
   "cell_type": "code",
   "execution_count": null,
   "metadata": {
    "dotnet_interactive": {
     "language": "csharp"
    },
    "polyglot_notebook": {
     "kernelName": "csharp"
    }
   },
   "outputs": [],
   "source": [
    "var systemMessage = \"You're chatting with a user. Instead of replying directly to the user\"\n",
    "                  + \" provide a description of a cartoonish image that expresses what you want to say.\"\n",
    "                  + \" The user won't see your message, they will see only the image.\"\n",
    "                  + \" Describe the image with details in one sentence.\";\n",
    "\n",
    "var chat = new ChatHistory(systemMessage);"
   ]
  },
  {
   "cell_type": "code",
   "execution_count": null,
   "metadata": {
    "dotnet_interactive": {
     "language": "csharp"
    },
    "polyglot_notebook": {
     "kernelName": "csharp"
    }
   },
   "outputs": [],
   "source": [
    "#pragma warning disable SKEXP0001\n",
    "\n",
    "while (true)\n",
    "{\n",
    "    // 1. Ask the user for a message. The user enters a message.  Add the user message into the Chat History object.\n",
    "    var userMessage = await InteractiveKernel.GetInputAsync(\"Your message\");\n",
    "    Console.WriteLine($\"User: {userMessage}\");\n",
    "    chat.AddUserMessage(userMessage);\n",
    "\n",
    "    // 2. Send the chat object to AI asking to generate a response. Add the bot message into the Chat History object.\n",
    "    var assistantReply = await chatGPT.GetChatMessageContentAsync(chat, new OpenAIPromptExecutionSettings());\n",
    "    chat.AddAssistantMessage(assistantReply.Content);\n",
    "\n",
    "    // 3. Show the reply as an image\n",
    "    Console.WriteLine($\"\\nBot:\");\n",
    "    var imageUrl = await dallE.GenerateImageAsync(assistantReply.Content, 1024, 1024);\n",
    "    await SkiaUtils.ShowImage(imageUrl, 1024, 1024);\n",
    "    Console.WriteLine($\"[{assistantReply}]\\n\");\n",
    "}"
   ]
  }
 ],
 "metadata": {
  "kernelspec": {
   "display_name": ".NET (C#)",
   "language": "C#",
   "name": ".net-csharp"
  },
  "polyglot_notebook": {
   "kernelInfo": {
    "defaultKernelName": "csharp",
    "items": [
     {
      "aliases": [],
      "name": "csharp"
     }
    ]
   }
  }
 },
 "nbformat": 4,
 "nbformat_minor": 2
}
